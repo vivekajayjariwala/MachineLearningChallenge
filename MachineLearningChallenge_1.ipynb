{
 "cells": [
  {
   "cell_type": "code",
   "id": "initial_id",
   "metadata": {
    "ExecuteTime": {
     "end_time": "2024-05-16T14:21:49.108947Z",
     "start_time": "2024-05-16T14:21:49.100033Z"
    }
   },
   "source": [
    "import matplotlib.pyplot as plt \n",
    "import numpy as np\n",
    "import pandas as pd \n",
    "\n",
    "# Make numpy printouts nicer to read lol \n",
    "np.set_printoptions(precision=3, suppress=True)\n",
    "print('hello first time')"
   ],
   "outputs": [
    {
     "name": "stdout",
     "output_type": "stream",
     "text": [
      "hello first time\n"
     ]
    }
   ],
   "execution_count": 98
  },
  {
   "cell_type": "code",
   "id": "3d745e42a8ae8c50",
   "metadata": {
    "ExecuteTime": {
     "end_time": "2024-05-16T14:21:49.412726Z",
     "start_time": "2024-05-16T14:21:49.338481Z"
    }
   },
   "source": [
    "import tensorflow as tf\n",
    "from tensorflow import keras\n",
    "from tensorflow.keras import layers\n",
    "\n",
    "# Your custom column names\n",
    "column_names = ['index', 'restaurant_id', 'list_position', 'total_available_restaurants', 'estimate_delivery_time', 'menu_category', 'star_rating', 'purchasers']\n",
    "\n",
    "# Load the DataFrame, skipping the first row and directly assigning your custom column names\n",
    "df = pd.read_csv('data_train.csv', header=0)\n",
    "\n",
    "# Assign your custom column names\n",
    "df.columns = column_names\n",
    "\n",
    "# Display the first few rows of the DataFrame to verify\n",
    "print('hello 2')"
   ],
   "outputs": [
    {
     "name": "stdout",
     "output_type": "stream",
     "text": [
      "hello 2\n"
     ]
    }
   ],
   "execution_count": 99
  },
  {
   "cell_type": "code",
   "id": "52a236f8e57373ef",
   "metadata": {
    "ExecuteTime": {
     "end_time": "2024-05-16T14:21:49.549946Z",
     "start_time": "2024-05-16T14:21:49.538172Z"
    }
   },
   "source": [
    "df.shape"
   ],
   "outputs": [
    {
     "data": {
      "text/plain": [
       "(25668, 8)"
      ]
     },
     "execution_count": 100,
     "metadata": {},
     "output_type": "execute_result"
    }
   ],
   "execution_count": 100
  },
  {
   "cell_type": "code",
   "id": "4f3944ec413a258e",
   "metadata": {
    "ExecuteTime": {
     "end_time": "2024-05-16T14:21:49.673663Z",
     "start_time": "2024-05-16T14:21:49.654114Z"
    }
   },
   "source": [
    "# top 5 rows \n",
    "df.head()"
   ],
   "outputs": [
    {
     "data": {
      "text/plain": [
       "   index  restaurant_id  list_position  total_available_restaurants  \\\n",
       "0  19499             68             19                           26   \n",
       "1   5515            899              9                           29   \n",
       "2   5461           2964              2                           11   \n",
       "3   2868           1993             10                           14   \n",
       "4  26403             25             49                           50   \n",
       "\n",
       "   estimate_delivery_time     menu_category   star_rating  purchasers  \n",
       "0                      35  indian                      1           42  \n",
       "1                      20  italian                                 49  \n",
       "2                      20  american                    4           40  \n",
       "3                      25  indian                                  45  \n",
       "4                      45  indian                                  54  "
      ],
      "text/html": [
       "<div>\n",
       "<style scoped>\n",
       "    .dataframe tbody tr th:only-of-type {\n",
       "        vertical-align: middle;\n",
       "    }\n",
       "\n",
       "    .dataframe tbody tr th {\n",
       "        vertical-align: top;\n",
       "    }\n",
       "\n",
       "    .dataframe thead th {\n",
       "        text-align: right;\n",
       "    }\n",
       "</style>\n",
       "<table border=\"1\" class=\"dataframe\">\n",
       "  <thead>\n",
       "    <tr style=\"text-align: right;\">\n",
       "      <th></th>\n",
       "      <th>index</th>\n",
       "      <th>restaurant_id</th>\n",
       "      <th>list_position</th>\n",
       "      <th>total_available_restaurants</th>\n",
       "      <th>estimate_delivery_time</th>\n",
       "      <th>menu_category</th>\n",
       "      <th>star_rating</th>\n",
       "      <th>purchasers</th>\n",
       "    </tr>\n",
       "  </thead>\n",
       "  <tbody>\n",
       "    <tr>\n",
       "      <th>0</th>\n",
       "      <td>19499</td>\n",
       "      <td>68</td>\n",
       "      <td>19</td>\n",
       "      <td>26</td>\n",
       "      <td>35</td>\n",
       "      <td>indian</td>\n",
       "      <td>1</td>\n",
       "      <td>42</td>\n",
       "    </tr>\n",
       "    <tr>\n",
       "      <th>1</th>\n",
       "      <td>5515</td>\n",
       "      <td>899</td>\n",
       "      <td>9</td>\n",
       "      <td>29</td>\n",
       "      <td>20</td>\n",
       "      <td>italian</td>\n",
       "      <td></td>\n",
       "      <td>49</td>\n",
       "    </tr>\n",
       "    <tr>\n",
       "      <th>2</th>\n",
       "      <td>5461</td>\n",
       "      <td>2964</td>\n",
       "      <td>2</td>\n",
       "      <td>11</td>\n",
       "      <td>20</td>\n",
       "      <td>american</td>\n",
       "      <td>4</td>\n",
       "      <td>40</td>\n",
       "    </tr>\n",
       "    <tr>\n",
       "      <th>3</th>\n",
       "      <td>2868</td>\n",
       "      <td>1993</td>\n",
       "      <td>10</td>\n",
       "      <td>14</td>\n",
       "      <td>25</td>\n",
       "      <td>indian</td>\n",
       "      <td></td>\n",
       "      <td>45</td>\n",
       "    </tr>\n",
       "    <tr>\n",
       "      <th>4</th>\n",
       "      <td>26403</td>\n",
       "      <td>25</td>\n",
       "      <td>49</td>\n",
       "      <td>50</td>\n",
       "      <td>45</td>\n",
       "      <td>indian</td>\n",
       "      <td></td>\n",
       "      <td>54</td>\n",
       "    </tr>\n",
       "  </tbody>\n",
       "</table>\n",
       "</div>"
      ]
     },
     "execution_count": 101,
     "metadata": {},
     "output_type": "execute_result"
    }
   ],
   "execution_count": 101
  },
  {
   "metadata": {
    "ExecuteTime": {
     "end_time": "2024-05-16T14:21:49.732633Z",
     "start_time": "2024-05-16T14:21:49.713503Z"
    }
   },
   "cell_type": "code",
   "source": [
    "# bottom 5 rows\n",
    "df.tail()"
   ],
   "id": "56c9ec9762f014c8",
   "outputs": [
    {
     "data": {
      "text/plain": [
       "       index  restaurant_id  list_position  total_available_restaurants  \\\n",
       "25663  21576           1014              1                           29   \n",
       "25664   5391           1239              6                            8   \n",
       "25665    861            331              6                           34   \n",
       "25666  15796           2956             12                           14   \n",
       "25667  23655           1741              4                           15   \n",
       "\n",
       "       estimate_delivery_time     menu_category   star_rating  purchasers  \n",
       "25663                      15  american                    4           48  \n",
       "25664                      10  italian                     5           40  \n",
       "25665                      15  turkish                     4           36  \n",
       "25666                      20  pizza                                   35  \n",
       "25667                      10  italian                     5           40  "
      ],
      "text/html": [
       "<div>\n",
       "<style scoped>\n",
       "    .dataframe tbody tr th:only-of-type {\n",
       "        vertical-align: middle;\n",
       "    }\n",
       "\n",
       "    .dataframe tbody tr th {\n",
       "        vertical-align: top;\n",
       "    }\n",
       "\n",
       "    .dataframe thead th {\n",
       "        text-align: right;\n",
       "    }\n",
       "</style>\n",
       "<table border=\"1\" class=\"dataframe\">\n",
       "  <thead>\n",
       "    <tr style=\"text-align: right;\">\n",
       "      <th></th>\n",
       "      <th>index</th>\n",
       "      <th>restaurant_id</th>\n",
       "      <th>list_position</th>\n",
       "      <th>total_available_restaurants</th>\n",
       "      <th>estimate_delivery_time</th>\n",
       "      <th>menu_category</th>\n",
       "      <th>star_rating</th>\n",
       "      <th>purchasers</th>\n",
       "    </tr>\n",
       "  </thead>\n",
       "  <tbody>\n",
       "    <tr>\n",
       "      <th>25663</th>\n",
       "      <td>21576</td>\n",
       "      <td>1014</td>\n",
       "      <td>1</td>\n",
       "      <td>29</td>\n",
       "      <td>15</td>\n",
       "      <td>american</td>\n",
       "      <td>4</td>\n",
       "      <td>48</td>\n",
       "    </tr>\n",
       "    <tr>\n",
       "      <th>25664</th>\n",
       "      <td>5391</td>\n",
       "      <td>1239</td>\n",
       "      <td>6</td>\n",
       "      <td>8</td>\n",
       "      <td>10</td>\n",
       "      <td>italian</td>\n",
       "      <td>5</td>\n",
       "      <td>40</td>\n",
       "    </tr>\n",
       "    <tr>\n",
       "      <th>25665</th>\n",
       "      <td>861</td>\n",
       "      <td>331</td>\n",
       "      <td>6</td>\n",
       "      <td>34</td>\n",
       "      <td>15</td>\n",
       "      <td>turkish</td>\n",
       "      <td>4</td>\n",
       "      <td>36</td>\n",
       "    </tr>\n",
       "    <tr>\n",
       "      <th>25666</th>\n",
       "      <td>15796</td>\n",
       "      <td>2956</td>\n",
       "      <td>12</td>\n",
       "      <td>14</td>\n",
       "      <td>20</td>\n",
       "      <td>pizza</td>\n",
       "      <td></td>\n",
       "      <td>35</td>\n",
       "    </tr>\n",
       "    <tr>\n",
       "      <th>25667</th>\n",
       "      <td>23655</td>\n",
       "      <td>1741</td>\n",
       "      <td>4</td>\n",
       "      <td>15</td>\n",
       "      <td>10</td>\n",
       "      <td>italian</td>\n",
       "      <td>5</td>\n",
       "      <td>40</td>\n",
       "    </tr>\n",
       "  </tbody>\n",
       "</table>\n",
       "</div>"
      ]
     },
     "execution_count": 102,
     "metadata": {},
     "output_type": "execute_result"
    }
   ],
   "execution_count": 102
  },
  {
   "metadata": {
    "ExecuteTime": {
     "end_time": "2024-05-16T14:21:49.848844Z",
     "start_time": "2024-05-16T14:21:49.835238Z"
    }
   },
   "cell_type": "code",
   "source": [
    "# check for missing values\n",
    "df.isnull().sum()"
   ],
   "id": "525d417d7e81a121",
   "outputs": [
    {
     "data": {
      "text/plain": [
       "index                          0\n",
       "restaurant_id                  0\n",
       "list_position                  0\n",
       "total_available_restaurants    0\n",
       "estimate_delivery_time         0\n",
       "menu_category                  0\n",
       "star_rating                    0\n",
       "purchasers                     0\n",
       "dtype: int64"
      ]
     },
     "execution_count": 103,
     "metadata": {},
     "output_type": "execute_result"
    }
   ],
   "execution_count": 103
  },
  {
   "metadata": {
    "ExecuteTime": {
     "end_time": "2024-05-16T14:21:49.962883Z",
     "start_time": "2024-05-16T14:21:49.940884Z"
    }
   },
   "cell_type": "code",
   "source": [
    "# drop star_rating, too many missing values for it to be valuable \n",
    "df = df.drop(columns='index')\n",
    "# no missing values now \n",
    "df.isnull().sum()"
   ],
   "id": "efa9eb6933723dac",
   "outputs": [
    {
     "data": {
      "text/plain": [
       "restaurant_id                  0\n",
       "list_position                  0\n",
       "total_available_restaurants    0\n",
       "estimate_delivery_time         0\n",
       "menu_category                  0\n",
       "star_rating                    0\n",
       "purchasers                     0\n",
       "dtype: int64"
      ]
     },
     "execution_count": 104,
     "metadata": {},
     "output_type": "execute_result"
    }
   ],
   "execution_count": 104
  },
  {
   "metadata": {
    "ExecuteTime": {
     "end_time": "2024-05-16T14:21:50.187412Z",
     "start_time": "2024-05-16T14:21:50.169964Z"
    }
   },
   "cell_type": "code",
   "source": [
    "df['restaurant_id'] = df['restaurant_id'].astype('category')\n",
    "df.dtypes"
   ],
   "id": "ba9c8d197cab1f11",
   "outputs": [
    {
     "data": {
      "text/plain": [
       "restaurant_id                  category\n",
       "list_position                     int64\n",
       "total_available_restaurants       int64\n",
       "estimate_delivery_time            int64\n",
       "menu_category                    object\n",
       "star_rating                      object\n",
       "purchasers                        int64\n",
       "dtype: object"
      ]
     },
     "execution_count": 105,
     "metadata": {},
     "output_type": "execute_result"
    }
   ],
   "execution_count": 105
  },
  {
   "metadata": {
    "ExecuteTime": {
     "end_time": "2024-05-16T14:21:50.565543Z",
     "start_time": "2024-05-16T14:21:50.549985Z"
    }
   },
   "cell_type": "code",
   "source": "df['star_rating'].unique()",
   "id": "237153e3594becf1",
   "outputs": [
    {
     "data": {
      "text/plain": [
       "array(['          1 ', '            ', '          4 ', '          3 ',\n",
       "       '          5 ', '          2 '], dtype=object)"
      ]
     },
     "execution_count": 106,
     "metadata": {},
     "output_type": "execute_result"
    }
   ],
   "execution_count": 106
  },
  {
   "metadata": {
    "ExecuteTime": {
     "end_time": "2024-05-16T14:21:50.714982Z",
     "start_time": "2024-05-16T14:21:50.677706Z"
    }
   },
   "cell_type": "code",
   "source": [
    "df['star_rating'] = df['star_rating'].str.strip()  # Remove leading and trailing whitespace\n",
    "df['star_rating'] = df['star_rating'].replace('', np.nan)  # Replace empty strings with NaN\n",
    "df['star_rating'] = df['star_rating'].astype(float)  # Convert to float\n",
    "df['star_rating'] = df['star_rating'].astype('category')  # Convert to categorical\n",
    "\n",
    "# Display the first few rows of the DataFrame to verify\n",
    "print(df['star_rating'].unique())"
   ],
   "id": "db72fc6b625ea3ff",
   "outputs": [
    {
     "name": "stdout",
     "output_type": "stream",
     "text": [
      "[1.0, NaN, 4.0, 3.0, 5.0, 2.0]\n",
      "Categories (5, float64): [1.0, 2.0, 3.0, 4.0, 5.0]\n"
     ]
    }
   ],
   "execution_count": 107
  },
  {
   "metadata": {
    "ExecuteTime": {
     "end_time": "2024-05-16T14:21:50.843457Z",
     "start_time": "2024-05-16T14:21:50.817330Z"
    }
   },
   "cell_type": "code",
   "source": [
    "star_rating_category = df.pop('star_rating')\n",
    "df['category_0'] = star_rating_category.isna().astype(int)\n",
    "df['category_1'] = (star_rating_category == 1).astype(int)\n",
    "df['category_2'] = (star_rating_category == 2).astype(int)\n",
    "df['category_3'] = (star_rating_category == 3).astype(int)\n",
    "df['category_4'] = (star_rating_category == 4).astype(int)\n",
    "df['category_5'] = (star_rating_category == 5).astype(int)\n",
    "\n",
    "# Display the first few rows of the DataFrame to verify\n",
    "print(df.head())"
   ],
   "id": "e09514c79aaea6d8",
   "outputs": [
    {
     "name": "stdout",
     "output_type": "stream",
     "text": [
      "  restaurant_id  list_position  total_available_restaurants  \\\n",
      "0            68             19                           26   \n",
      "1           899              9                           29   \n",
      "2          2964              2                           11   \n",
      "3          1993             10                           14   \n",
      "4            25             49                           50   \n",
      "\n",
      "   estimate_delivery_time     menu_category  purchasers  category_0  \\\n",
      "0                      35  indian                    42           0   \n",
      "1                      20  italian                   49           1   \n",
      "2                      20  american                  40           0   \n",
      "3                      25  indian                    45           1   \n",
      "4                      45  indian                    54           1   \n",
      "\n",
      "   category_1  category_2  category_3  category_4  category_5  \n",
      "0           1           0           0           0           0  \n",
      "1           0           0           0           0           0  \n",
      "2           0           0           0           1           0  \n",
      "3           0           0           0           0           0  \n",
      "4           0           0           0           0           0  \n"
     ]
    }
   ],
   "execution_count": 108
  },
  {
   "metadata": {
    "ExecuteTime": {
     "end_time": "2024-05-16T14:21:51.026170Z",
     "start_time": "2024-05-16T14:21:50.970108Z"
    }
   },
   "cell_type": "code",
   "source": [
    "# from sklearn.preprocessing import LabelEncoder\n",
    "# \n",
    "# # Label encode the categorical variable\n",
    "# label_encoder = LabelEncoder()\n",
    "# df['restaurant_id'] = label_encoder.fit_transform(df['restaurant_id'])\n",
    "from sklearn.preprocessing import OneHotEncoder\n",
    "\n",
    "# Encode the categorical variable\n",
    "encoder = OneHotEncoder(sparse_output=False)\n",
    "menu_category_encoded = encoder.fit_transform(df[['menu_category']])\n",
    "menu_category_encoded_df = pd.DataFrame(menu_category_encoded, columns=encoder.get_feature_names_out(['menu_category']))\n",
    "\n",
    "# Drop the original categorical column and concatenate the encoded DataFrame\n",
    "df = df.drop('menu_category', axis=1)\n",
    "df = pd.concat([df, menu_category_encoded_df], axis=1)\n",
    "\n",
    "df = df.drop('restaurant_id', axis=1)\n",
    "\n",
    "df['list_position_by_total_restaurants'] = df['list_position'] / df['total_available_restaurants']\n",
    "\n"
   ],
   "id": "88a258a4b8f22ba3",
   "outputs": [],
   "execution_count": 109
  },
  {
   "metadata": {
    "ExecuteTime": {
     "end_time": "2024-05-16T14:21:51.192477Z",
     "start_time": "2024-05-16T14:21:51.167720Z"
    }
   },
   "cell_type": "code",
   "source": [
    "# split the data into train and test \n",
    "# we want 80% to train our model \n",
    "train_df = df.sample(frac=0.8, random_state=0)\n",
    "test_df = df.drop(train_df.index)"
   ],
   "id": "f930490e98ea8337",
   "outputs": [],
   "execution_count": 110
  },
  {
   "metadata": {
    "ExecuteTime": {
     "end_time": "2024-05-16T14:21:51.282641Z",
     "start_time": "2024-05-16T14:21:51.272121Z"
    }
   },
   "cell_type": "code",
   "source": [
    "# check shape of data\n",
    "print(df.shape, train_df.shape, test_df.shape)"
   ],
   "id": "6e65aeaf32aea4e3",
   "outputs": [
    {
     "name": "stdout",
     "output_type": "stream",
     "text": [
      "(25668, 30) (20534, 30) (5134, 30)\n"
     ]
    }
   ],
   "execution_count": 111
  },
  {
   "metadata": {
    "ExecuteTime": {
     "end_time": "2024-05-16T14:21:51.563146Z",
     "start_time": "2024-05-16T14:21:51.412470Z"
    }
   },
   "cell_type": "code",
   "source": [
    "# Descriptive statistics\n",
    "train_df.describe().transpose()"
   ],
   "id": "2a31d1e246e25f44",
   "outputs": [
    {
     "data": {
      "text/plain": [
       "                                      count       mean        std   min  \\\n",
       "list_position                       20534.0  15.880880  15.568170   0.0   \n",
       "total_available_restaurants         20534.0  27.910149  18.158492   0.0   \n",
       "estimate_delivery_time              20534.0  20.824973   8.812304  10.0   \n",
       "purchasers                          20534.0  55.729230  34.525798  30.0   \n",
       "category_0                          20534.0   0.438882   0.496263   0.0   \n",
       "category_1                          20534.0   0.016996   0.129260   0.0   \n",
       "category_2                          20534.0   0.010227   0.100612   0.0   \n",
       "category_3                          20534.0   0.051719   0.221465   0.0   \n",
       "category_4                          20534.0   0.192900   0.394584   0.0   \n",
       "category_5                          20534.0   0.289276   0.453437   0.0   \n",
       "menu_category_Healthy options       20534.0   0.001071   0.032715   0.0   \n",
       "menu_category_american              20534.0   0.286111   0.451953   0.0   \n",
       "menu_category_argentinian           20534.0   0.000146   0.012087   0.0   \n",
       "menu_category_asian                 20534.0   0.006818   0.082291   0.0   \n",
       "menu_category_european              20534.0   0.003506   0.059112   0.0   \n",
       "menu_category_german                20534.0   0.001412   0.037555   0.0   \n",
       "menu_category_greek                 20534.0   0.005406   0.073326   0.0   \n",
       "menu_category_indian                20534.0   0.187737   0.390512   0.0   \n",
       "menu_category_italian               20534.0   0.268335   0.443104   0.0   \n",
       "menu_category_japanese              20534.0   0.051427   0.220872   0.0   \n",
       "menu_category_korean                20534.0   0.000682   0.026103   0.0   \n",
       "menu_category_lebanese              20534.0   0.014026   0.117599   0.0   \n",
       "menu_category_mexican               20534.0   0.045680   0.208796   0.0   \n",
       "menu_category_pizza                 20534.0   0.038278   0.191871   0.0   \n",
       "menu_category_south indian          20534.0   0.000779   0.027904   0.0   \n",
       "menu_category_thai                  20534.0   0.046898   0.211425   0.0   \n",
       "menu_category_turkish               20534.0   0.037109   0.189034   0.0   \n",
       "menu_category_vegetarian            20534.0   0.000925   0.030405   0.0   \n",
       "menu_category_vietnamese            20534.0   0.003652   0.060327   0.0   \n",
       "list_position_by_total_restaurants  20523.0   0.561427   0.320280   0.0   \n",
       "\n",
       "                                          25%   50%        75%    max  \n",
       "list_position                        4.000000  11.0  22.000000   90.0  \n",
       "total_available_restaurants         14.000000  24.0  38.000000   90.0  \n",
       "estimate_delivery_time              15.000000  20.0  25.000000   50.0  \n",
       "purchasers                          40.000000  45.0  63.000000  822.0  \n",
       "category_0                           0.000000   0.0   1.000000    1.0  \n",
       "category_1                           0.000000   0.0   0.000000    1.0  \n",
       "category_2                           0.000000   0.0   0.000000    1.0  \n",
       "category_3                           0.000000   0.0   0.000000    1.0  \n",
       "category_4                           0.000000   0.0   0.000000    1.0  \n",
       "category_5                           0.000000   0.0   1.000000    1.0  \n",
       "menu_category_Healthy options        0.000000   0.0   0.000000    1.0  \n",
       "menu_category_american               0.000000   0.0   1.000000    1.0  \n",
       "menu_category_argentinian            0.000000   0.0   0.000000    1.0  \n",
       "menu_category_asian                  0.000000   0.0   0.000000    1.0  \n",
       "menu_category_european               0.000000   0.0   0.000000    1.0  \n",
       "menu_category_german                 0.000000   0.0   0.000000    1.0  \n",
       "menu_category_greek                  0.000000   0.0   0.000000    1.0  \n",
       "menu_category_indian                 0.000000   0.0   0.000000    1.0  \n",
       "menu_category_italian                0.000000   0.0   1.000000    1.0  \n",
       "menu_category_japanese               0.000000   0.0   0.000000    1.0  \n",
       "menu_category_korean                 0.000000   0.0   0.000000    1.0  \n",
       "menu_category_lebanese               0.000000   0.0   0.000000    1.0  \n",
       "menu_category_mexican                0.000000   0.0   0.000000    1.0  \n",
       "menu_category_pizza                  0.000000   0.0   0.000000    1.0  \n",
       "menu_category_south indian           0.000000   0.0   0.000000    1.0  \n",
       "menu_category_thai                   0.000000   0.0   0.000000    1.0  \n",
       "menu_category_turkish                0.000000   0.0   0.000000    1.0  \n",
       "menu_category_vegetarian             0.000000   0.0   0.000000    1.0  \n",
       "menu_category_vietnamese             0.000000   0.0   0.000000    1.0  \n",
       "list_position_by_total_restaurants   0.266667   0.6   0.857143    1.0  "
      ],
      "text/html": [
       "<div>\n",
       "<style scoped>\n",
       "    .dataframe tbody tr th:only-of-type {\n",
       "        vertical-align: middle;\n",
       "    }\n",
       "\n",
       "    .dataframe tbody tr th {\n",
       "        vertical-align: top;\n",
       "    }\n",
       "\n",
       "    .dataframe thead th {\n",
       "        text-align: right;\n",
       "    }\n",
       "</style>\n",
       "<table border=\"1\" class=\"dataframe\">\n",
       "  <thead>\n",
       "    <tr style=\"text-align: right;\">\n",
       "      <th></th>\n",
       "      <th>count</th>\n",
       "      <th>mean</th>\n",
       "      <th>std</th>\n",
       "      <th>min</th>\n",
       "      <th>25%</th>\n",
       "      <th>50%</th>\n",
       "      <th>75%</th>\n",
       "      <th>max</th>\n",
       "    </tr>\n",
       "  </thead>\n",
       "  <tbody>\n",
       "    <tr>\n",
       "      <th>list_position</th>\n",
       "      <td>20534.0</td>\n",
       "      <td>15.880880</td>\n",
       "      <td>15.568170</td>\n",
       "      <td>0.0</td>\n",
       "      <td>4.000000</td>\n",
       "      <td>11.0</td>\n",
       "      <td>22.000000</td>\n",
       "      <td>90.0</td>\n",
       "    </tr>\n",
       "    <tr>\n",
       "      <th>total_available_restaurants</th>\n",
       "      <td>20534.0</td>\n",
       "      <td>27.910149</td>\n",
       "      <td>18.158492</td>\n",
       "      <td>0.0</td>\n",
       "      <td>14.000000</td>\n",
       "      <td>24.0</td>\n",
       "      <td>38.000000</td>\n",
       "      <td>90.0</td>\n",
       "    </tr>\n",
       "    <tr>\n",
       "      <th>estimate_delivery_time</th>\n",
       "      <td>20534.0</td>\n",
       "      <td>20.824973</td>\n",
       "      <td>8.812304</td>\n",
       "      <td>10.0</td>\n",
       "      <td>15.000000</td>\n",
       "      <td>20.0</td>\n",
       "      <td>25.000000</td>\n",
       "      <td>50.0</td>\n",
       "    </tr>\n",
       "    <tr>\n",
       "      <th>purchasers</th>\n",
       "      <td>20534.0</td>\n",
       "      <td>55.729230</td>\n",
       "      <td>34.525798</td>\n",
       "      <td>30.0</td>\n",
       "      <td>40.000000</td>\n",
       "      <td>45.0</td>\n",
       "      <td>63.000000</td>\n",
       "      <td>822.0</td>\n",
       "    </tr>\n",
       "    <tr>\n",
       "      <th>category_0</th>\n",
       "      <td>20534.0</td>\n",
       "      <td>0.438882</td>\n",
       "      <td>0.496263</td>\n",
       "      <td>0.0</td>\n",
       "      <td>0.000000</td>\n",
       "      <td>0.0</td>\n",
       "      <td>1.000000</td>\n",
       "      <td>1.0</td>\n",
       "    </tr>\n",
       "    <tr>\n",
       "      <th>category_1</th>\n",
       "      <td>20534.0</td>\n",
       "      <td>0.016996</td>\n",
       "      <td>0.129260</td>\n",
       "      <td>0.0</td>\n",
       "      <td>0.000000</td>\n",
       "      <td>0.0</td>\n",
       "      <td>0.000000</td>\n",
       "      <td>1.0</td>\n",
       "    </tr>\n",
       "    <tr>\n",
       "      <th>category_2</th>\n",
       "      <td>20534.0</td>\n",
       "      <td>0.010227</td>\n",
       "      <td>0.100612</td>\n",
       "      <td>0.0</td>\n",
       "      <td>0.000000</td>\n",
       "      <td>0.0</td>\n",
       "      <td>0.000000</td>\n",
       "      <td>1.0</td>\n",
       "    </tr>\n",
       "    <tr>\n",
       "      <th>category_3</th>\n",
       "      <td>20534.0</td>\n",
       "      <td>0.051719</td>\n",
       "      <td>0.221465</td>\n",
       "      <td>0.0</td>\n",
       "      <td>0.000000</td>\n",
       "      <td>0.0</td>\n",
       "      <td>0.000000</td>\n",
       "      <td>1.0</td>\n",
       "    </tr>\n",
       "    <tr>\n",
       "      <th>category_4</th>\n",
       "      <td>20534.0</td>\n",
       "      <td>0.192900</td>\n",
       "      <td>0.394584</td>\n",
       "      <td>0.0</td>\n",
       "      <td>0.000000</td>\n",
       "      <td>0.0</td>\n",
       "      <td>0.000000</td>\n",
       "      <td>1.0</td>\n",
       "    </tr>\n",
       "    <tr>\n",
       "      <th>category_5</th>\n",
       "      <td>20534.0</td>\n",
       "      <td>0.289276</td>\n",
       "      <td>0.453437</td>\n",
       "      <td>0.0</td>\n",
       "      <td>0.000000</td>\n",
       "      <td>0.0</td>\n",
       "      <td>1.000000</td>\n",
       "      <td>1.0</td>\n",
       "    </tr>\n",
       "    <tr>\n",
       "      <th>menu_category_Healthy options</th>\n",
       "      <td>20534.0</td>\n",
       "      <td>0.001071</td>\n",
       "      <td>0.032715</td>\n",
       "      <td>0.0</td>\n",
       "      <td>0.000000</td>\n",
       "      <td>0.0</td>\n",
       "      <td>0.000000</td>\n",
       "      <td>1.0</td>\n",
       "    </tr>\n",
       "    <tr>\n",
       "      <th>menu_category_american</th>\n",
       "      <td>20534.0</td>\n",
       "      <td>0.286111</td>\n",
       "      <td>0.451953</td>\n",
       "      <td>0.0</td>\n",
       "      <td>0.000000</td>\n",
       "      <td>0.0</td>\n",
       "      <td>1.000000</td>\n",
       "      <td>1.0</td>\n",
       "    </tr>\n",
       "    <tr>\n",
       "      <th>menu_category_argentinian</th>\n",
       "      <td>20534.0</td>\n",
       "      <td>0.000146</td>\n",
       "      <td>0.012087</td>\n",
       "      <td>0.0</td>\n",
       "      <td>0.000000</td>\n",
       "      <td>0.0</td>\n",
       "      <td>0.000000</td>\n",
       "      <td>1.0</td>\n",
       "    </tr>\n",
       "    <tr>\n",
       "      <th>menu_category_asian</th>\n",
       "      <td>20534.0</td>\n",
       "      <td>0.006818</td>\n",
       "      <td>0.082291</td>\n",
       "      <td>0.0</td>\n",
       "      <td>0.000000</td>\n",
       "      <td>0.0</td>\n",
       "      <td>0.000000</td>\n",
       "      <td>1.0</td>\n",
       "    </tr>\n",
       "    <tr>\n",
       "      <th>menu_category_european</th>\n",
       "      <td>20534.0</td>\n",
       "      <td>0.003506</td>\n",
       "      <td>0.059112</td>\n",
       "      <td>0.0</td>\n",
       "      <td>0.000000</td>\n",
       "      <td>0.0</td>\n",
       "      <td>0.000000</td>\n",
       "      <td>1.0</td>\n",
       "    </tr>\n",
       "    <tr>\n",
       "      <th>menu_category_german</th>\n",
       "      <td>20534.0</td>\n",
       "      <td>0.001412</td>\n",
       "      <td>0.037555</td>\n",
       "      <td>0.0</td>\n",
       "      <td>0.000000</td>\n",
       "      <td>0.0</td>\n",
       "      <td>0.000000</td>\n",
       "      <td>1.0</td>\n",
       "    </tr>\n",
       "    <tr>\n",
       "      <th>menu_category_greek</th>\n",
       "      <td>20534.0</td>\n",
       "      <td>0.005406</td>\n",
       "      <td>0.073326</td>\n",
       "      <td>0.0</td>\n",
       "      <td>0.000000</td>\n",
       "      <td>0.0</td>\n",
       "      <td>0.000000</td>\n",
       "      <td>1.0</td>\n",
       "    </tr>\n",
       "    <tr>\n",
       "      <th>menu_category_indian</th>\n",
       "      <td>20534.0</td>\n",
       "      <td>0.187737</td>\n",
       "      <td>0.390512</td>\n",
       "      <td>0.0</td>\n",
       "      <td>0.000000</td>\n",
       "      <td>0.0</td>\n",
       "      <td>0.000000</td>\n",
       "      <td>1.0</td>\n",
       "    </tr>\n",
       "    <tr>\n",
       "      <th>menu_category_italian</th>\n",
       "      <td>20534.0</td>\n",
       "      <td>0.268335</td>\n",
       "      <td>0.443104</td>\n",
       "      <td>0.0</td>\n",
       "      <td>0.000000</td>\n",
       "      <td>0.0</td>\n",
       "      <td>1.000000</td>\n",
       "      <td>1.0</td>\n",
       "    </tr>\n",
       "    <tr>\n",
       "      <th>menu_category_japanese</th>\n",
       "      <td>20534.0</td>\n",
       "      <td>0.051427</td>\n",
       "      <td>0.220872</td>\n",
       "      <td>0.0</td>\n",
       "      <td>0.000000</td>\n",
       "      <td>0.0</td>\n",
       "      <td>0.000000</td>\n",
       "      <td>1.0</td>\n",
       "    </tr>\n",
       "    <tr>\n",
       "      <th>menu_category_korean</th>\n",
       "      <td>20534.0</td>\n",
       "      <td>0.000682</td>\n",
       "      <td>0.026103</td>\n",
       "      <td>0.0</td>\n",
       "      <td>0.000000</td>\n",
       "      <td>0.0</td>\n",
       "      <td>0.000000</td>\n",
       "      <td>1.0</td>\n",
       "    </tr>\n",
       "    <tr>\n",
       "      <th>menu_category_lebanese</th>\n",
       "      <td>20534.0</td>\n",
       "      <td>0.014026</td>\n",
       "      <td>0.117599</td>\n",
       "      <td>0.0</td>\n",
       "      <td>0.000000</td>\n",
       "      <td>0.0</td>\n",
       "      <td>0.000000</td>\n",
       "      <td>1.0</td>\n",
       "    </tr>\n",
       "    <tr>\n",
       "      <th>menu_category_mexican</th>\n",
       "      <td>20534.0</td>\n",
       "      <td>0.045680</td>\n",
       "      <td>0.208796</td>\n",
       "      <td>0.0</td>\n",
       "      <td>0.000000</td>\n",
       "      <td>0.0</td>\n",
       "      <td>0.000000</td>\n",
       "      <td>1.0</td>\n",
       "    </tr>\n",
       "    <tr>\n",
       "      <th>menu_category_pizza</th>\n",
       "      <td>20534.0</td>\n",
       "      <td>0.038278</td>\n",
       "      <td>0.191871</td>\n",
       "      <td>0.0</td>\n",
       "      <td>0.000000</td>\n",
       "      <td>0.0</td>\n",
       "      <td>0.000000</td>\n",
       "      <td>1.0</td>\n",
       "    </tr>\n",
       "    <tr>\n",
       "      <th>menu_category_south indian</th>\n",
       "      <td>20534.0</td>\n",
       "      <td>0.000779</td>\n",
       "      <td>0.027904</td>\n",
       "      <td>0.0</td>\n",
       "      <td>0.000000</td>\n",
       "      <td>0.0</td>\n",
       "      <td>0.000000</td>\n",
       "      <td>1.0</td>\n",
       "    </tr>\n",
       "    <tr>\n",
       "      <th>menu_category_thai</th>\n",
       "      <td>20534.0</td>\n",
       "      <td>0.046898</td>\n",
       "      <td>0.211425</td>\n",
       "      <td>0.0</td>\n",
       "      <td>0.000000</td>\n",
       "      <td>0.0</td>\n",
       "      <td>0.000000</td>\n",
       "      <td>1.0</td>\n",
       "    </tr>\n",
       "    <tr>\n",
       "      <th>menu_category_turkish</th>\n",
       "      <td>20534.0</td>\n",
       "      <td>0.037109</td>\n",
       "      <td>0.189034</td>\n",
       "      <td>0.0</td>\n",
       "      <td>0.000000</td>\n",
       "      <td>0.0</td>\n",
       "      <td>0.000000</td>\n",
       "      <td>1.0</td>\n",
       "    </tr>\n",
       "    <tr>\n",
       "      <th>menu_category_vegetarian</th>\n",
       "      <td>20534.0</td>\n",
       "      <td>0.000925</td>\n",
       "      <td>0.030405</td>\n",
       "      <td>0.0</td>\n",
       "      <td>0.000000</td>\n",
       "      <td>0.0</td>\n",
       "      <td>0.000000</td>\n",
       "      <td>1.0</td>\n",
       "    </tr>\n",
       "    <tr>\n",
       "      <th>menu_category_vietnamese</th>\n",
       "      <td>20534.0</td>\n",
       "      <td>0.003652</td>\n",
       "      <td>0.060327</td>\n",
       "      <td>0.0</td>\n",
       "      <td>0.000000</td>\n",
       "      <td>0.0</td>\n",
       "      <td>0.000000</td>\n",
       "      <td>1.0</td>\n",
       "    </tr>\n",
       "    <tr>\n",
       "      <th>list_position_by_total_restaurants</th>\n",
       "      <td>20523.0</td>\n",
       "      <td>0.561427</td>\n",
       "      <td>0.320280</td>\n",
       "      <td>0.0</td>\n",
       "      <td>0.266667</td>\n",
       "      <td>0.6</td>\n",
       "      <td>0.857143</td>\n",
       "      <td>1.0</td>\n",
       "    </tr>\n",
       "  </tbody>\n",
       "</table>\n",
       "</div>"
      ]
     },
     "execution_count": 112,
     "metadata": {},
     "output_type": "execute_result"
    }
   ],
   "execution_count": 112
  },
  {
   "metadata": {
    "ExecuteTime": {
     "end_time": "2024-05-16T14:21:51.739790Z",
     "start_time": "2024-05-16T14:21:51.618759Z"
    }
   },
   "cell_type": "code",
   "source": [
    "# Descriptive statistics for test dataframe\n",
    "test_df.describe().transpose()"
   ],
   "id": "73a992740cc7222e",
   "outputs": [
    {
     "data": {
      "text/plain": [
       "                                     count       mean        std   min  \\\n",
       "list_position                       5134.0  15.987145  15.578157   0.0   \n",
       "total_available_restaurants         5134.0  28.240164  18.452982   0.0   \n",
       "estimate_delivery_time              5134.0  20.944683   8.885030   5.0   \n",
       "purchasers                          5134.0  55.855279  34.343061  30.0   \n",
       "category_0                          5134.0   0.431632   0.495352   0.0   \n",
       "category_1                          5134.0   0.017530   0.131249   0.0   \n",
       "category_2                          5134.0   0.010323   0.101088   0.0   \n",
       "category_3                          5134.0   0.051227   0.220482   0.0   \n",
       "category_4                          5134.0   0.197507   0.398157   0.0   \n",
       "category_5                          5134.0   0.291780   0.454626   0.0   \n",
       "menu_category_Healthy options       5134.0   0.001558   0.039448   0.0   \n",
       "menu_category_american              5134.0   0.291001   0.454268   0.0   \n",
       "menu_category_argentinian           5134.0   0.000195   0.013956   0.0   \n",
       "menu_category_asian                 5134.0   0.007402   0.085722   0.0   \n",
       "menu_category_european              5134.0   0.003116   0.055744   0.0   \n",
       "menu_category_german                5134.0   0.002337   0.048294   0.0   \n",
       "menu_category_greek                 5134.0   0.006038   0.077478   0.0   \n",
       "menu_category_indian                5134.0   0.177639   0.382246   0.0   \n",
       "menu_category_italian               5134.0   0.266459   0.442150   0.0   \n",
       "menu_category_japanese              5134.0   0.053370   0.224791   0.0   \n",
       "menu_category_korean                5134.0   0.001169   0.034169   0.0   \n",
       "menu_category_lebanese              5134.0   0.013245   0.114333   0.0   \n",
       "menu_category_mexican               5134.0   0.041878   0.200329   0.0   \n",
       "menu_category_pizza                 5134.0   0.044020   0.205160   0.0   \n",
       "menu_category_south indian          5134.0   0.000390   0.019735   0.0   \n",
       "menu_category_thai                  5134.0   0.045968   0.209436   0.0   \n",
       "menu_category_turkish               5134.0   0.038566   0.192578   0.0   \n",
       "menu_category_vegetarian            5134.0   0.001753   0.041836   0.0   \n",
       "menu_category_vietnamese            5134.0   0.003896   0.062299   0.0   \n",
       "list_position_by_total_restaurants  5129.0   0.562956   0.320325   0.0   \n",
       "\n",
       "                                          25%   50%        75%    max  \n",
       "list_position                        4.000000  11.0  22.000000   90.0  \n",
       "total_available_restaurants         14.000000  24.0  39.000000   90.0  \n",
       "estimate_delivery_time              15.000000  20.0  25.000000   50.0  \n",
       "purchasers                          40.000000  45.0  63.000000  848.0  \n",
       "category_0                           0.000000   0.0   1.000000    1.0  \n",
       "category_1                           0.000000   0.0   0.000000    1.0  \n",
       "category_2                           0.000000   0.0   0.000000    1.0  \n",
       "category_3                           0.000000   0.0   0.000000    1.0  \n",
       "category_4                           0.000000   0.0   0.000000    1.0  \n",
       "category_5                           0.000000   0.0   1.000000    1.0  \n",
       "menu_category_Healthy options        0.000000   0.0   0.000000    1.0  \n",
       "menu_category_american               0.000000   0.0   1.000000    1.0  \n",
       "menu_category_argentinian            0.000000   0.0   0.000000    1.0  \n",
       "menu_category_asian                  0.000000   0.0   0.000000    1.0  \n",
       "menu_category_european               0.000000   0.0   0.000000    1.0  \n",
       "menu_category_german                 0.000000   0.0   0.000000    1.0  \n",
       "menu_category_greek                  0.000000   0.0   0.000000    1.0  \n",
       "menu_category_indian                 0.000000   0.0   0.000000    1.0  \n",
       "menu_category_italian                0.000000   0.0   1.000000    1.0  \n",
       "menu_category_japanese               0.000000   0.0   0.000000    1.0  \n",
       "menu_category_korean                 0.000000   0.0   0.000000    1.0  \n",
       "menu_category_lebanese               0.000000   0.0   0.000000    1.0  \n",
       "menu_category_mexican                0.000000   0.0   0.000000    1.0  \n",
       "menu_category_pizza                  0.000000   0.0   0.000000    1.0  \n",
       "menu_category_south indian           0.000000   0.0   0.000000    1.0  \n",
       "menu_category_thai                   0.000000   0.0   0.000000    1.0  \n",
       "menu_category_turkish                0.000000   0.0   0.000000    1.0  \n",
       "menu_category_vegetarian             0.000000   0.0   0.000000    1.0  \n",
       "menu_category_vietnamese             0.000000   0.0   0.000000    1.0  \n",
       "list_position_by_total_restaurants   0.266667   0.6   0.862069    1.0  "
      ],
      "text/html": [
       "<div>\n",
       "<style scoped>\n",
       "    .dataframe tbody tr th:only-of-type {\n",
       "        vertical-align: middle;\n",
       "    }\n",
       "\n",
       "    .dataframe tbody tr th {\n",
       "        vertical-align: top;\n",
       "    }\n",
       "\n",
       "    .dataframe thead th {\n",
       "        text-align: right;\n",
       "    }\n",
       "</style>\n",
       "<table border=\"1\" class=\"dataframe\">\n",
       "  <thead>\n",
       "    <tr style=\"text-align: right;\">\n",
       "      <th></th>\n",
       "      <th>count</th>\n",
       "      <th>mean</th>\n",
       "      <th>std</th>\n",
       "      <th>min</th>\n",
       "      <th>25%</th>\n",
       "      <th>50%</th>\n",
       "      <th>75%</th>\n",
       "      <th>max</th>\n",
       "    </tr>\n",
       "  </thead>\n",
       "  <tbody>\n",
       "    <tr>\n",
       "      <th>list_position</th>\n",
       "      <td>5134.0</td>\n",
       "      <td>15.987145</td>\n",
       "      <td>15.578157</td>\n",
       "      <td>0.0</td>\n",
       "      <td>4.000000</td>\n",
       "      <td>11.0</td>\n",
       "      <td>22.000000</td>\n",
       "      <td>90.0</td>\n",
       "    </tr>\n",
       "    <tr>\n",
       "      <th>total_available_restaurants</th>\n",
       "      <td>5134.0</td>\n",
       "      <td>28.240164</td>\n",
       "      <td>18.452982</td>\n",
       "      <td>0.0</td>\n",
       "      <td>14.000000</td>\n",
       "      <td>24.0</td>\n",
       "      <td>39.000000</td>\n",
       "      <td>90.0</td>\n",
       "    </tr>\n",
       "    <tr>\n",
       "      <th>estimate_delivery_time</th>\n",
       "      <td>5134.0</td>\n",
       "      <td>20.944683</td>\n",
       "      <td>8.885030</td>\n",
       "      <td>5.0</td>\n",
       "      <td>15.000000</td>\n",
       "      <td>20.0</td>\n",
       "      <td>25.000000</td>\n",
       "      <td>50.0</td>\n",
       "    </tr>\n",
       "    <tr>\n",
       "      <th>purchasers</th>\n",
       "      <td>5134.0</td>\n",
       "      <td>55.855279</td>\n",
       "      <td>34.343061</td>\n",
       "      <td>30.0</td>\n",
       "      <td>40.000000</td>\n",
       "      <td>45.0</td>\n",
       "      <td>63.000000</td>\n",
       "      <td>848.0</td>\n",
       "    </tr>\n",
       "    <tr>\n",
       "      <th>category_0</th>\n",
       "      <td>5134.0</td>\n",
       "      <td>0.431632</td>\n",
       "      <td>0.495352</td>\n",
       "      <td>0.0</td>\n",
       "      <td>0.000000</td>\n",
       "      <td>0.0</td>\n",
       "      <td>1.000000</td>\n",
       "      <td>1.0</td>\n",
       "    </tr>\n",
       "    <tr>\n",
       "      <th>category_1</th>\n",
       "      <td>5134.0</td>\n",
       "      <td>0.017530</td>\n",
       "      <td>0.131249</td>\n",
       "      <td>0.0</td>\n",
       "      <td>0.000000</td>\n",
       "      <td>0.0</td>\n",
       "      <td>0.000000</td>\n",
       "      <td>1.0</td>\n",
       "    </tr>\n",
       "    <tr>\n",
       "      <th>category_2</th>\n",
       "      <td>5134.0</td>\n",
       "      <td>0.010323</td>\n",
       "      <td>0.101088</td>\n",
       "      <td>0.0</td>\n",
       "      <td>0.000000</td>\n",
       "      <td>0.0</td>\n",
       "      <td>0.000000</td>\n",
       "      <td>1.0</td>\n",
       "    </tr>\n",
       "    <tr>\n",
       "      <th>category_3</th>\n",
       "      <td>5134.0</td>\n",
       "      <td>0.051227</td>\n",
       "      <td>0.220482</td>\n",
       "      <td>0.0</td>\n",
       "      <td>0.000000</td>\n",
       "      <td>0.0</td>\n",
       "      <td>0.000000</td>\n",
       "      <td>1.0</td>\n",
       "    </tr>\n",
       "    <tr>\n",
       "      <th>category_4</th>\n",
       "      <td>5134.0</td>\n",
       "      <td>0.197507</td>\n",
       "      <td>0.398157</td>\n",
       "      <td>0.0</td>\n",
       "      <td>0.000000</td>\n",
       "      <td>0.0</td>\n",
       "      <td>0.000000</td>\n",
       "      <td>1.0</td>\n",
       "    </tr>\n",
       "    <tr>\n",
       "      <th>category_5</th>\n",
       "      <td>5134.0</td>\n",
       "      <td>0.291780</td>\n",
       "      <td>0.454626</td>\n",
       "      <td>0.0</td>\n",
       "      <td>0.000000</td>\n",
       "      <td>0.0</td>\n",
       "      <td>1.000000</td>\n",
       "      <td>1.0</td>\n",
       "    </tr>\n",
       "    <tr>\n",
       "      <th>menu_category_Healthy options</th>\n",
       "      <td>5134.0</td>\n",
       "      <td>0.001558</td>\n",
       "      <td>0.039448</td>\n",
       "      <td>0.0</td>\n",
       "      <td>0.000000</td>\n",
       "      <td>0.0</td>\n",
       "      <td>0.000000</td>\n",
       "      <td>1.0</td>\n",
       "    </tr>\n",
       "    <tr>\n",
       "      <th>menu_category_american</th>\n",
       "      <td>5134.0</td>\n",
       "      <td>0.291001</td>\n",
       "      <td>0.454268</td>\n",
       "      <td>0.0</td>\n",
       "      <td>0.000000</td>\n",
       "      <td>0.0</td>\n",
       "      <td>1.000000</td>\n",
       "      <td>1.0</td>\n",
       "    </tr>\n",
       "    <tr>\n",
       "      <th>menu_category_argentinian</th>\n",
       "      <td>5134.0</td>\n",
       "      <td>0.000195</td>\n",
       "      <td>0.013956</td>\n",
       "      <td>0.0</td>\n",
       "      <td>0.000000</td>\n",
       "      <td>0.0</td>\n",
       "      <td>0.000000</td>\n",
       "      <td>1.0</td>\n",
       "    </tr>\n",
       "    <tr>\n",
       "      <th>menu_category_asian</th>\n",
       "      <td>5134.0</td>\n",
       "      <td>0.007402</td>\n",
       "      <td>0.085722</td>\n",
       "      <td>0.0</td>\n",
       "      <td>0.000000</td>\n",
       "      <td>0.0</td>\n",
       "      <td>0.000000</td>\n",
       "      <td>1.0</td>\n",
       "    </tr>\n",
       "    <tr>\n",
       "      <th>menu_category_european</th>\n",
       "      <td>5134.0</td>\n",
       "      <td>0.003116</td>\n",
       "      <td>0.055744</td>\n",
       "      <td>0.0</td>\n",
       "      <td>0.000000</td>\n",
       "      <td>0.0</td>\n",
       "      <td>0.000000</td>\n",
       "      <td>1.0</td>\n",
       "    </tr>\n",
       "    <tr>\n",
       "      <th>menu_category_german</th>\n",
       "      <td>5134.0</td>\n",
       "      <td>0.002337</td>\n",
       "      <td>0.048294</td>\n",
       "      <td>0.0</td>\n",
       "      <td>0.000000</td>\n",
       "      <td>0.0</td>\n",
       "      <td>0.000000</td>\n",
       "      <td>1.0</td>\n",
       "    </tr>\n",
       "    <tr>\n",
       "      <th>menu_category_greek</th>\n",
       "      <td>5134.0</td>\n",
       "      <td>0.006038</td>\n",
       "      <td>0.077478</td>\n",
       "      <td>0.0</td>\n",
       "      <td>0.000000</td>\n",
       "      <td>0.0</td>\n",
       "      <td>0.000000</td>\n",
       "      <td>1.0</td>\n",
       "    </tr>\n",
       "    <tr>\n",
       "      <th>menu_category_indian</th>\n",
       "      <td>5134.0</td>\n",
       "      <td>0.177639</td>\n",
       "      <td>0.382246</td>\n",
       "      <td>0.0</td>\n",
       "      <td>0.000000</td>\n",
       "      <td>0.0</td>\n",
       "      <td>0.000000</td>\n",
       "      <td>1.0</td>\n",
       "    </tr>\n",
       "    <tr>\n",
       "      <th>menu_category_italian</th>\n",
       "      <td>5134.0</td>\n",
       "      <td>0.266459</td>\n",
       "      <td>0.442150</td>\n",
       "      <td>0.0</td>\n",
       "      <td>0.000000</td>\n",
       "      <td>0.0</td>\n",
       "      <td>1.000000</td>\n",
       "      <td>1.0</td>\n",
       "    </tr>\n",
       "    <tr>\n",
       "      <th>menu_category_japanese</th>\n",
       "      <td>5134.0</td>\n",
       "      <td>0.053370</td>\n",
       "      <td>0.224791</td>\n",
       "      <td>0.0</td>\n",
       "      <td>0.000000</td>\n",
       "      <td>0.0</td>\n",
       "      <td>0.000000</td>\n",
       "      <td>1.0</td>\n",
       "    </tr>\n",
       "    <tr>\n",
       "      <th>menu_category_korean</th>\n",
       "      <td>5134.0</td>\n",
       "      <td>0.001169</td>\n",
       "      <td>0.034169</td>\n",
       "      <td>0.0</td>\n",
       "      <td>0.000000</td>\n",
       "      <td>0.0</td>\n",
       "      <td>0.000000</td>\n",
       "      <td>1.0</td>\n",
       "    </tr>\n",
       "    <tr>\n",
       "      <th>menu_category_lebanese</th>\n",
       "      <td>5134.0</td>\n",
       "      <td>0.013245</td>\n",
       "      <td>0.114333</td>\n",
       "      <td>0.0</td>\n",
       "      <td>0.000000</td>\n",
       "      <td>0.0</td>\n",
       "      <td>0.000000</td>\n",
       "      <td>1.0</td>\n",
       "    </tr>\n",
       "    <tr>\n",
       "      <th>menu_category_mexican</th>\n",
       "      <td>5134.0</td>\n",
       "      <td>0.041878</td>\n",
       "      <td>0.200329</td>\n",
       "      <td>0.0</td>\n",
       "      <td>0.000000</td>\n",
       "      <td>0.0</td>\n",
       "      <td>0.000000</td>\n",
       "      <td>1.0</td>\n",
       "    </tr>\n",
       "    <tr>\n",
       "      <th>menu_category_pizza</th>\n",
       "      <td>5134.0</td>\n",
       "      <td>0.044020</td>\n",
       "      <td>0.205160</td>\n",
       "      <td>0.0</td>\n",
       "      <td>0.000000</td>\n",
       "      <td>0.0</td>\n",
       "      <td>0.000000</td>\n",
       "      <td>1.0</td>\n",
       "    </tr>\n",
       "    <tr>\n",
       "      <th>menu_category_south indian</th>\n",
       "      <td>5134.0</td>\n",
       "      <td>0.000390</td>\n",
       "      <td>0.019735</td>\n",
       "      <td>0.0</td>\n",
       "      <td>0.000000</td>\n",
       "      <td>0.0</td>\n",
       "      <td>0.000000</td>\n",
       "      <td>1.0</td>\n",
       "    </tr>\n",
       "    <tr>\n",
       "      <th>menu_category_thai</th>\n",
       "      <td>5134.0</td>\n",
       "      <td>0.045968</td>\n",
       "      <td>0.209436</td>\n",
       "      <td>0.0</td>\n",
       "      <td>0.000000</td>\n",
       "      <td>0.0</td>\n",
       "      <td>0.000000</td>\n",
       "      <td>1.0</td>\n",
       "    </tr>\n",
       "    <tr>\n",
       "      <th>menu_category_turkish</th>\n",
       "      <td>5134.0</td>\n",
       "      <td>0.038566</td>\n",
       "      <td>0.192578</td>\n",
       "      <td>0.0</td>\n",
       "      <td>0.000000</td>\n",
       "      <td>0.0</td>\n",
       "      <td>0.000000</td>\n",
       "      <td>1.0</td>\n",
       "    </tr>\n",
       "    <tr>\n",
       "      <th>menu_category_vegetarian</th>\n",
       "      <td>5134.0</td>\n",
       "      <td>0.001753</td>\n",
       "      <td>0.041836</td>\n",
       "      <td>0.0</td>\n",
       "      <td>0.000000</td>\n",
       "      <td>0.0</td>\n",
       "      <td>0.000000</td>\n",
       "      <td>1.0</td>\n",
       "    </tr>\n",
       "    <tr>\n",
       "      <th>menu_category_vietnamese</th>\n",
       "      <td>5134.0</td>\n",
       "      <td>0.003896</td>\n",
       "      <td>0.062299</td>\n",
       "      <td>0.0</td>\n",
       "      <td>0.000000</td>\n",
       "      <td>0.0</td>\n",
       "      <td>0.000000</td>\n",
       "      <td>1.0</td>\n",
       "    </tr>\n",
       "    <tr>\n",
       "      <th>list_position_by_total_restaurants</th>\n",
       "      <td>5129.0</td>\n",
       "      <td>0.562956</td>\n",
       "      <td>0.320325</td>\n",
       "      <td>0.0</td>\n",
       "      <td>0.266667</td>\n",
       "      <td>0.6</td>\n",
       "      <td>0.862069</td>\n",
       "      <td>1.0</td>\n",
       "    </tr>\n",
       "  </tbody>\n",
       "</table>\n",
       "</div>"
      ]
     },
     "execution_count": 113,
     "metadata": {},
     "output_type": "execute_result"
    }
   ],
   "execution_count": 113
  },
  {
   "metadata": {
    "ExecuteTime": {
     "end_time": "2024-05-16T14:21:51.762126Z",
     "start_time": "2024-05-16T14:21:51.743780Z"
    }
   },
   "cell_type": "code",
   "source": [
    "# split features and labels\n",
    "train_features = train_df.copy()\n",
    "test_features = test_df.copy()\n",
    "\n",
    "train_labels = train_features.pop('purchasers')\n",
    "test_labels = test_features.pop('purchasers')"
   ],
   "id": "e153206578cdd888",
   "outputs": [],
   "execution_count": 114
  },
  {
   "metadata": {
    "ExecuteTime": {
     "end_time": "2024-05-16T14:21:51.946816Z",
     "start_time": "2024-05-16T14:21:51.906184Z"
    }
   },
   "cell_type": "code",
   "source": [
    "# top 5 rows of train features\n",
    "train_features.head()"
   ],
   "id": "9e518f8218eaa78",
   "outputs": [
    {
     "data": {
      "text/plain": [
       "       list_position  total_available_restaurants  estimate_delivery_time  \\\n",
       "4603              73                           76                      35   \n",
       "20609             28                           49                      20   \n",
       "20615              2                           13                      10   \n",
       "14087             20                           23                      15   \n",
       "12714              8                           10                      35   \n",
       "\n",
       "       category_0  category_1  category_2  category_3  category_4  category_5  \\\n",
       "4603            1           0           0           0           0           0   \n",
       "20609           0           0           0           0           0           1   \n",
       "20615           0           0           0           0           0           1   \n",
       "14087           1           0           0           0           0           0   \n",
       "12714           0           0           0           0           0           1   \n",
       "\n",
       "       menu_category_Healthy options   ...  menu_category_korean            \\\n",
       "4603                              0.0  ...                             0.0   \n",
       "20609                             0.0  ...                             0.0   \n",
       "20615                             0.0  ...                             0.0   \n",
       "14087                             0.0  ...                             0.0   \n",
       "12714                             0.0  ...                             0.0   \n",
       "\n",
       "       menu_category_lebanese          menu_category_mexican           \\\n",
       "4603                              0.0                             0.0   \n",
       "20609                             0.0                             0.0   \n",
       "20615                             0.0                             0.0   \n",
       "14087                             0.0                             0.0   \n",
       "12714                             0.0                             0.0   \n",
       "\n",
       "       menu_category_pizza             menu_category_south indian      \\\n",
       "4603                              0.0                             0.0   \n",
       "20609                             0.0                             0.0   \n",
       "20615                             0.0                             0.0   \n",
       "14087                             0.0                             0.0   \n",
       "12714                             1.0                             0.0   \n",
       "\n",
       "       menu_category_thai              menu_category_turkish           \\\n",
       "4603                              0.0                             0.0   \n",
       "20609                             0.0                             0.0   \n",
       "20615                             0.0                             0.0   \n",
       "14087                             0.0                             0.0   \n",
       "12714                             0.0                             0.0   \n",
       "\n",
       "       menu_category_vegetarian        menu_category_vietnamese        \\\n",
       "4603                              0.0                             0.0   \n",
       "20609                             0.0                             0.0   \n",
       "20615                             0.0                             0.0   \n",
       "14087                             0.0                             0.0   \n",
       "12714                             0.0                             0.0   \n",
       "\n",
       "       list_position_by_total_restaurants  \n",
       "4603                             0.960526  \n",
       "20609                            0.571429  \n",
       "20615                            0.153846  \n",
       "14087                            0.869565  \n",
       "12714                            0.800000  \n",
       "\n",
       "[5 rows x 29 columns]"
      ],
      "text/html": [
       "<div>\n",
       "<style scoped>\n",
       "    .dataframe tbody tr th:only-of-type {\n",
       "        vertical-align: middle;\n",
       "    }\n",
       "\n",
       "    .dataframe tbody tr th {\n",
       "        vertical-align: top;\n",
       "    }\n",
       "\n",
       "    .dataframe thead th {\n",
       "        text-align: right;\n",
       "    }\n",
       "</style>\n",
       "<table border=\"1\" class=\"dataframe\">\n",
       "  <thead>\n",
       "    <tr style=\"text-align: right;\">\n",
       "      <th></th>\n",
       "      <th>list_position</th>\n",
       "      <th>total_available_restaurants</th>\n",
       "      <th>estimate_delivery_time</th>\n",
       "      <th>category_0</th>\n",
       "      <th>category_1</th>\n",
       "      <th>category_2</th>\n",
       "      <th>category_3</th>\n",
       "      <th>category_4</th>\n",
       "      <th>category_5</th>\n",
       "      <th>menu_category_Healthy options</th>\n",
       "      <th>...</th>\n",
       "      <th>menu_category_korean</th>\n",
       "      <th>menu_category_lebanese</th>\n",
       "      <th>menu_category_mexican</th>\n",
       "      <th>menu_category_pizza</th>\n",
       "      <th>menu_category_south indian</th>\n",
       "      <th>menu_category_thai</th>\n",
       "      <th>menu_category_turkish</th>\n",
       "      <th>menu_category_vegetarian</th>\n",
       "      <th>menu_category_vietnamese</th>\n",
       "      <th>list_position_by_total_restaurants</th>\n",
       "    </tr>\n",
       "  </thead>\n",
       "  <tbody>\n",
       "    <tr>\n",
       "      <th>4603</th>\n",
       "      <td>73</td>\n",
       "      <td>76</td>\n",
       "      <td>35</td>\n",
       "      <td>1</td>\n",
       "      <td>0</td>\n",
       "      <td>0</td>\n",
       "      <td>0</td>\n",
       "      <td>0</td>\n",
       "      <td>0</td>\n",
       "      <td>0.0</td>\n",
       "      <td>...</td>\n",
       "      <td>0.0</td>\n",
       "      <td>0.0</td>\n",
       "      <td>0.0</td>\n",
       "      <td>0.0</td>\n",
       "      <td>0.0</td>\n",
       "      <td>0.0</td>\n",
       "      <td>0.0</td>\n",
       "      <td>0.0</td>\n",
       "      <td>0.0</td>\n",
       "      <td>0.960526</td>\n",
       "    </tr>\n",
       "    <tr>\n",
       "      <th>20609</th>\n",
       "      <td>28</td>\n",
       "      <td>49</td>\n",
       "      <td>20</td>\n",
       "      <td>0</td>\n",
       "      <td>0</td>\n",
       "      <td>0</td>\n",
       "      <td>0</td>\n",
       "      <td>0</td>\n",
       "      <td>1</td>\n",
       "      <td>0.0</td>\n",
       "      <td>...</td>\n",
       "      <td>0.0</td>\n",
       "      <td>0.0</td>\n",
       "      <td>0.0</td>\n",
       "      <td>0.0</td>\n",
       "      <td>0.0</td>\n",
       "      <td>0.0</td>\n",
       "      <td>0.0</td>\n",
       "      <td>0.0</td>\n",
       "      <td>0.0</td>\n",
       "      <td>0.571429</td>\n",
       "    </tr>\n",
       "    <tr>\n",
       "      <th>20615</th>\n",
       "      <td>2</td>\n",
       "      <td>13</td>\n",
       "      <td>10</td>\n",
       "      <td>0</td>\n",
       "      <td>0</td>\n",
       "      <td>0</td>\n",
       "      <td>0</td>\n",
       "      <td>0</td>\n",
       "      <td>1</td>\n",
       "      <td>0.0</td>\n",
       "      <td>...</td>\n",
       "      <td>0.0</td>\n",
       "      <td>0.0</td>\n",
       "      <td>0.0</td>\n",
       "      <td>0.0</td>\n",
       "      <td>0.0</td>\n",
       "      <td>0.0</td>\n",
       "      <td>0.0</td>\n",
       "      <td>0.0</td>\n",
       "      <td>0.0</td>\n",
       "      <td>0.153846</td>\n",
       "    </tr>\n",
       "    <tr>\n",
       "      <th>14087</th>\n",
       "      <td>20</td>\n",
       "      <td>23</td>\n",
       "      <td>15</td>\n",
       "      <td>1</td>\n",
       "      <td>0</td>\n",
       "      <td>0</td>\n",
       "      <td>0</td>\n",
       "      <td>0</td>\n",
       "      <td>0</td>\n",
       "      <td>0.0</td>\n",
       "      <td>...</td>\n",
       "      <td>0.0</td>\n",
       "      <td>0.0</td>\n",
       "      <td>0.0</td>\n",
       "      <td>0.0</td>\n",
       "      <td>0.0</td>\n",
       "      <td>0.0</td>\n",
       "      <td>0.0</td>\n",
       "      <td>0.0</td>\n",
       "      <td>0.0</td>\n",
       "      <td>0.869565</td>\n",
       "    </tr>\n",
       "    <tr>\n",
       "      <th>12714</th>\n",
       "      <td>8</td>\n",
       "      <td>10</td>\n",
       "      <td>35</td>\n",
       "      <td>0</td>\n",
       "      <td>0</td>\n",
       "      <td>0</td>\n",
       "      <td>0</td>\n",
       "      <td>0</td>\n",
       "      <td>1</td>\n",
       "      <td>0.0</td>\n",
       "      <td>...</td>\n",
       "      <td>0.0</td>\n",
       "      <td>0.0</td>\n",
       "      <td>0.0</td>\n",
       "      <td>1.0</td>\n",
       "      <td>0.0</td>\n",
       "      <td>0.0</td>\n",
       "      <td>0.0</td>\n",
       "      <td>0.0</td>\n",
       "      <td>0.0</td>\n",
       "      <td>0.800000</td>\n",
       "    </tr>\n",
       "  </tbody>\n",
       "</table>\n",
       "<p>5 rows × 29 columns</p>\n",
       "</div>"
      ]
     },
     "execution_count": 115,
     "metadata": {},
     "output_type": "execute_result"
    }
   ],
   "execution_count": 115
  },
  {
   "metadata": {
    "ExecuteTime": {
     "end_time": "2024-05-16T14:21:52.100675Z",
     "start_time": "2024-05-16T14:21:52.064671Z"
    }
   },
   "cell_type": "code",
   "source": [
    "# top 5 rows of test features\n",
    "test_features.head()"
   ],
   "id": "b4a4153a8d83adbf",
   "outputs": [
    {
     "data": {
      "text/plain": [
       "    list_position  total_available_restaurants  estimate_delivery_time  \\\n",
       "10              3                           36                      10   \n",
       "13              6                           46                      10   \n",
       "19              4                           13                      10   \n",
       "28             24                           35                      15   \n",
       "40              2                            4                      10   \n",
       "\n",
       "    category_0  category_1  category_2  category_3  category_4  category_5  \\\n",
       "10           0           0           0           0           0           1   \n",
       "13           0           0           0           0           0           1   \n",
       "19           0           0           0           0           1           0   \n",
       "28           1           0           0           0           0           0   \n",
       "40           0           0           0           0           1           0   \n",
       "\n",
       "    menu_category_Healthy options   ...  menu_category_korean            \\\n",
       "10                             0.0  ...                             0.0   \n",
       "13                             0.0  ...                             0.0   \n",
       "19                             0.0  ...                             0.0   \n",
       "28                             0.0  ...                             0.0   \n",
       "40                             0.0  ...                             0.0   \n",
       "\n",
       "    menu_category_lebanese          menu_category_mexican           \\\n",
       "10                             0.0                             0.0   \n",
       "13                             0.0                             0.0   \n",
       "19                             0.0                             0.0   \n",
       "28                             0.0                             0.0   \n",
       "40                             0.0                             0.0   \n",
       "\n",
       "    menu_category_pizza             menu_category_south indian      \\\n",
       "10                             0.0                             0.0   \n",
       "13                             0.0                             0.0   \n",
       "19                             0.0                             0.0   \n",
       "28                             0.0                             0.0   \n",
       "40                             0.0                             0.0   \n",
       "\n",
       "    menu_category_thai              menu_category_turkish           \\\n",
       "10                             0.0                             1.0   \n",
       "13                             0.0                             0.0   \n",
       "19                             0.0                             0.0   \n",
       "28                             0.0                             0.0   \n",
       "40                             0.0                             0.0   \n",
       "\n",
       "    menu_category_vegetarian        menu_category_vietnamese        \\\n",
       "10                             0.0                             0.0   \n",
       "13                             0.0                             0.0   \n",
       "19                             0.0                             0.0   \n",
       "28                             0.0                             0.0   \n",
       "40                             0.0                             0.0   \n",
       "\n",
       "    list_position_by_total_restaurants  \n",
       "10                            0.083333  \n",
       "13                            0.130435  \n",
       "19                            0.307692  \n",
       "28                            0.685714  \n",
       "40                            0.500000  \n",
       "\n",
       "[5 rows x 29 columns]"
      ],
      "text/html": [
       "<div>\n",
       "<style scoped>\n",
       "    .dataframe tbody tr th:only-of-type {\n",
       "        vertical-align: middle;\n",
       "    }\n",
       "\n",
       "    .dataframe tbody tr th {\n",
       "        vertical-align: top;\n",
       "    }\n",
       "\n",
       "    .dataframe thead th {\n",
       "        text-align: right;\n",
       "    }\n",
       "</style>\n",
       "<table border=\"1\" class=\"dataframe\">\n",
       "  <thead>\n",
       "    <tr style=\"text-align: right;\">\n",
       "      <th></th>\n",
       "      <th>list_position</th>\n",
       "      <th>total_available_restaurants</th>\n",
       "      <th>estimate_delivery_time</th>\n",
       "      <th>category_0</th>\n",
       "      <th>category_1</th>\n",
       "      <th>category_2</th>\n",
       "      <th>category_3</th>\n",
       "      <th>category_4</th>\n",
       "      <th>category_5</th>\n",
       "      <th>menu_category_Healthy options</th>\n",
       "      <th>...</th>\n",
       "      <th>menu_category_korean</th>\n",
       "      <th>menu_category_lebanese</th>\n",
       "      <th>menu_category_mexican</th>\n",
       "      <th>menu_category_pizza</th>\n",
       "      <th>menu_category_south indian</th>\n",
       "      <th>menu_category_thai</th>\n",
       "      <th>menu_category_turkish</th>\n",
       "      <th>menu_category_vegetarian</th>\n",
       "      <th>menu_category_vietnamese</th>\n",
       "      <th>list_position_by_total_restaurants</th>\n",
       "    </tr>\n",
       "  </thead>\n",
       "  <tbody>\n",
       "    <tr>\n",
       "      <th>10</th>\n",
       "      <td>3</td>\n",
       "      <td>36</td>\n",
       "      <td>10</td>\n",
       "      <td>0</td>\n",
       "      <td>0</td>\n",
       "      <td>0</td>\n",
       "      <td>0</td>\n",
       "      <td>0</td>\n",
       "      <td>1</td>\n",
       "      <td>0.0</td>\n",
       "      <td>...</td>\n",
       "      <td>0.0</td>\n",
       "      <td>0.0</td>\n",
       "      <td>0.0</td>\n",
       "      <td>0.0</td>\n",
       "      <td>0.0</td>\n",
       "      <td>0.0</td>\n",
       "      <td>1.0</td>\n",
       "      <td>0.0</td>\n",
       "      <td>0.0</td>\n",
       "      <td>0.083333</td>\n",
       "    </tr>\n",
       "    <tr>\n",
       "      <th>13</th>\n",
       "      <td>6</td>\n",
       "      <td>46</td>\n",
       "      <td>10</td>\n",
       "      <td>0</td>\n",
       "      <td>0</td>\n",
       "      <td>0</td>\n",
       "      <td>0</td>\n",
       "      <td>0</td>\n",
       "      <td>1</td>\n",
       "      <td>0.0</td>\n",
       "      <td>...</td>\n",
       "      <td>0.0</td>\n",
       "      <td>0.0</td>\n",
       "      <td>0.0</td>\n",
       "      <td>0.0</td>\n",
       "      <td>0.0</td>\n",
       "      <td>0.0</td>\n",
       "      <td>0.0</td>\n",
       "      <td>0.0</td>\n",
       "      <td>0.0</td>\n",
       "      <td>0.130435</td>\n",
       "    </tr>\n",
       "    <tr>\n",
       "      <th>19</th>\n",
       "      <td>4</td>\n",
       "      <td>13</td>\n",
       "      <td>10</td>\n",
       "      <td>0</td>\n",
       "      <td>0</td>\n",
       "      <td>0</td>\n",
       "      <td>0</td>\n",
       "      <td>1</td>\n",
       "      <td>0</td>\n",
       "      <td>0.0</td>\n",
       "      <td>...</td>\n",
       "      <td>0.0</td>\n",
       "      <td>0.0</td>\n",
       "      <td>0.0</td>\n",
       "      <td>0.0</td>\n",
       "      <td>0.0</td>\n",
       "      <td>0.0</td>\n",
       "      <td>0.0</td>\n",
       "      <td>0.0</td>\n",
       "      <td>0.0</td>\n",
       "      <td>0.307692</td>\n",
       "    </tr>\n",
       "    <tr>\n",
       "      <th>28</th>\n",
       "      <td>24</td>\n",
       "      <td>35</td>\n",
       "      <td>15</td>\n",
       "      <td>1</td>\n",
       "      <td>0</td>\n",
       "      <td>0</td>\n",
       "      <td>0</td>\n",
       "      <td>0</td>\n",
       "      <td>0</td>\n",
       "      <td>0.0</td>\n",
       "      <td>...</td>\n",
       "      <td>0.0</td>\n",
       "      <td>0.0</td>\n",
       "      <td>0.0</td>\n",
       "      <td>0.0</td>\n",
       "      <td>0.0</td>\n",
       "      <td>0.0</td>\n",
       "      <td>0.0</td>\n",
       "      <td>0.0</td>\n",
       "      <td>0.0</td>\n",
       "      <td>0.685714</td>\n",
       "    </tr>\n",
       "    <tr>\n",
       "      <th>40</th>\n",
       "      <td>2</td>\n",
       "      <td>4</td>\n",
       "      <td>10</td>\n",
       "      <td>0</td>\n",
       "      <td>0</td>\n",
       "      <td>0</td>\n",
       "      <td>0</td>\n",
       "      <td>1</td>\n",
       "      <td>0</td>\n",
       "      <td>0.0</td>\n",
       "      <td>...</td>\n",
       "      <td>0.0</td>\n",
       "      <td>0.0</td>\n",
       "      <td>0.0</td>\n",
       "      <td>0.0</td>\n",
       "      <td>0.0</td>\n",
       "      <td>0.0</td>\n",
       "      <td>0.0</td>\n",
       "      <td>0.0</td>\n",
       "      <td>0.0</td>\n",
       "      <td>0.500000</td>\n",
       "    </tr>\n",
       "  </tbody>\n",
       "</table>\n",
       "<p>5 rows × 29 columns</p>\n",
       "</div>"
      ]
     },
     "execution_count": 116,
     "metadata": {},
     "output_type": "execute_result"
    }
   ],
   "execution_count": 116
  },
  {
   "metadata": {
    "ExecuteTime": {
     "end_time": "2024-05-16T14:21:52.422408Z",
     "start_time": "2024-05-16T14:21:52.408094Z"
    }
   },
   "cell_type": "code",
   "source": "train_labels.head()",
   "id": "e5c891557cd1aeab",
   "outputs": [
    {
     "data": {
      "text/plain": [
       "4603     49\n",
       "20609    54\n",
       "20615    30\n",
       "14087    35\n",
       "12714    56\n",
       "Name: purchasers, dtype: int64"
      ]
     },
     "execution_count": 117,
     "metadata": {},
     "output_type": "execute_result"
    }
   ],
   "execution_count": 117
  },
  {
   "metadata": {
    "ExecuteTime": {
     "end_time": "2024-05-16T14:21:52.683883Z",
     "start_time": "2024-05-16T14:21:52.674234Z"
    }
   },
   "cell_type": "code",
   "source": [
    "def plot(feature, x=None, y=None):\n",
    "    plt.figure(figsize=(10, 8))\n",
    "    plt.scatter(train_features[feature], train_labels, label='Data')\n",
    "    if x is not None and y is not None:\n",
    "        plt.plot(x, y, color='red', label='Predictions')\n",
    "    plt.xlabel(feature)\n",
    "    plt.ylabel('purchasers')\n",
    "    plt.legend()\n",
    "    "
   ],
   "id": "e1c57bee87af677",
   "outputs": [],
   "execution_count": 118
  },
  {
   "metadata": {
    "ExecuteTime": {
     "end_time": "2024-05-16T14:21:54.087771Z",
     "start_time": "2024-05-16T14:21:53.034133Z"
    }
   },
   "cell_type": "code",
   "source": "plot('list_position_by_total_restaurants')",
   "id": "218545e1aedd002c",
   "outputs": [
    {
     "data": {
      "text/plain": [
       "<Figure size 1000x800 with 1 Axes>"
      ],
      "image/png": "[encoded data removed]"
     },
     "metadata": {},
     "output_type": "display_data"
    }
   ],
   "execution_count": 119
  },
  {
   "metadata": {
    "ExecuteTime": {
     "end_time": "2024-05-16T14:21:54.211810Z",
     "start_time": "2024-05-16T14:21:54.091839Z"
    }
   },
   "cell_type": "code",
   "source": "print(train_df.describe().transpose()[['mean', 'std']])",
   "id": "8965ab5b392fc51e",
   "outputs": [
    {
     "name": "stdout",
     "output_type": "stream",
     "text": [
      "                                         mean        std\n",
      "list_position                       15.880880  15.568170\n",
      "total_available_restaurants         27.910149  18.158492\n",
      "estimate_delivery_time              20.824973   8.812304\n",
      "purchasers                          55.729230  34.525798\n",
      "category_0                           0.438882   0.496263\n",
      "category_1                           0.016996   0.129260\n",
      "category_2                           0.010227   0.100612\n",
      "category_3                           0.051719   0.221465\n",
      "category_4                           0.192900   0.394584\n",
      "category_5                           0.289276   0.453437\n",
      "menu_category_Healthy options        0.001071   0.032715\n",
      "menu_category_american               0.286111   0.451953\n",
      "menu_category_argentinian            0.000146   0.012087\n",
      "menu_category_asian                  0.006818   0.082291\n",
      "menu_category_european               0.003506   0.059112\n",
      "menu_category_german                 0.001412   0.037555\n",
      "menu_category_greek                  0.005406   0.073326\n",
      "menu_category_indian                 0.187737   0.390512\n",
      "menu_category_italian                0.268335   0.443104\n",
      "menu_category_japanese               0.051427   0.220872\n",
      "menu_category_korean                 0.000682   0.026103\n",
      "menu_category_lebanese               0.014026   0.117599\n",
      "menu_category_mexican                0.045680   0.208796\n",
      "menu_category_pizza                  0.038278   0.191871\n",
      "menu_category_south indian           0.000779   0.027904\n",
      "menu_category_thai                   0.046898   0.211425\n",
      "menu_category_turkish                0.037109   0.189034\n",
      "menu_category_vegetarian             0.000925   0.030405\n",
      "menu_category_vietnamese             0.003652   0.060327\n",
      "list_position_by_total_restaurants   0.561427   0.320280\n"
     ]
    }
   ],
   "execution_count": 120
  },
  {
   "metadata": {
    "ExecuteTime": {
     "end_time": "2024-05-16T14:21:54.228579Z",
     "start_time": "2024-05-16T14:21:54.214808Z"
    }
   },
   "cell_type": "code",
   "source": "train_df.dtypes",
   "id": "bc2090e20b6ed73e",
   "outputs": [
    {
     "data": {
      "text/plain": [
       "list_position                           int64\n",
       "total_available_restaurants             int64\n",
       "estimate_delivery_time                  int64\n",
       "purchasers                              int64\n",
       "category_0                              int32\n",
       "category_1                              int32\n",
       "category_2                              int32\n",
       "category_3                              int32\n",
       "category_4                              int32\n",
       "category_5                              int32\n",
       "menu_category_Healthy options         float64\n",
       "menu_category_american                float64\n",
       "menu_category_argentinian             float64\n",
       "menu_category_asian                   float64\n",
       "menu_category_european                float64\n",
       "menu_category_german                  float64\n",
       "menu_category_greek                   float64\n",
       "menu_category_indian                  float64\n",
       "menu_category_italian                 float64\n",
       "menu_category_japanese                float64\n",
       "menu_category_korean                  float64\n",
       "menu_category_lebanese                float64\n",
       "menu_category_mexican                 float64\n",
       "menu_category_pizza                   float64\n",
       "menu_category_south indian            float64\n",
       "menu_category_thai                    float64\n",
       "menu_category_turkish                 float64\n",
       "menu_category_vegetarian              float64\n",
       "menu_category_vietnamese              float64\n",
       "list_position_by_total_restaurants    float64\n",
       "dtype: object"
      ]
     },
     "execution_count": 121,
     "metadata": {},
     "output_type": "execute_result"
    }
   ],
   "execution_count": 121
  },
  {
   "metadata": {
    "ExecuteTime": {
     "end_time": "2024-05-16T14:21:54.317878Z",
     "start_time": "2024-05-16T14:21:54.231567Z"
    }
   },
   "cell_type": "code",
   "source": [
    "# normalize data\n",
    "normalizer = tf.keras.layers.Normalization()\n",
    "\n",
    "# apply adapt\n",
    "normalizer.adapt(np.array(train_features))\n",
    "print(normalizer.mean.numpy())"
   ],
   "id": "1a6f1b7f6f120037",
   "outputs": [
    {
     "name": "stdout",
     "output_type": "stream",
     "text": [
      "[[15.881 27.91  20.825  0.439  0.017  0.01   0.052  0.193  0.289  0.001\n",
      "   0.286  0.     0.007  0.004  0.001  0.005  0.188  0.268  0.051  0.001\n",
      "   0.014  0.046  0.038  0.001  0.047  0.037  0.001  0.004    nan]]\n"
     ]
    }
   ],
   "execution_count": 122
  },
  {
   "metadata": {
    "ExecuteTime": {
     "end_time": "2024-05-16T14:21:54.350853Z",
     "start_time": "2024-05-16T14:21:54.321960Z"
    }
   },
   "cell_type": "code",
   "source": "train_features[:1]",
   "id": "d58c43a45b10e6a8",
   "outputs": [
    {
     "data": {
      "text/plain": [
       "      list_position  total_available_restaurants  estimate_delivery_time  \\\n",
       "4603             73                           76                      35   \n",
       "\n",
       "      category_0  category_1  category_2  category_3  category_4  category_5  \\\n",
       "4603           1           0           0           0           0           0   \n",
       "\n",
       "      menu_category_Healthy options   ...  menu_category_korean            \\\n",
       "4603                             0.0  ...                             0.0   \n",
       "\n",
       "      menu_category_lebanese          menu_category_mexican           \\\n",
       "4603                             0.0                             0.0   \n",
       "\n",
       "      menu_category_pizza             menu_category_south indian      \\\n",
       "4603                             0.0                             0.0   \n",
       "\n",
       "      menu_category_thai              menu_category_turkish           \\\n",
       "4603                             0.0                             0.0   \n",
       "\n",
       "      menu_category_vegetarian        menu_category_vietnamese        \\\n",
       "4603                             0.0                             0.0   \n",
       "\n",
       "      list_position_by_total_restaurants  \n",
       "4603                            0.960526  \n",
       "\n",
       "[1 rows x 29 columns]"
      ],
      "text/html": [
       "<div>\n",
       "<style scoped>\n",
       "    .dataframe tbody tr th:only-of-type {\n",
       "        vertical-align: middle;\n",
       "    }\n",
       "\n",
       "    .dataframe tbody tr th {\n",
       "        vertical-align: top;\n",
       "    }\n",
       "\n",
       "    .dataframe thead th {\n",
       "        text-align: right;\n",
       "    }\n",
       "</style>\n",
       "<table border=\"1\" class=\"dataframe\">\n",
       "  <thead>\n",
       "    <tr style=\"text-align: right;\">\n",
       "      <th></th>\n",
       "      <th>list_position</th>\n",
       "      <th>total_available_restaurants</th>\n",
       "      <th>estimate_delivery_time</th>\n",
       "      <th>category_0</th>\n",
       "      <th>category_1</th>\n",
       "      <th>category_2</th>\n",
       "      <th>category_3</th>\n",
       "      <th>category_4</th>\n",
       "      <th>category_5</th>\n",
       "      <th>menu_category_Healthy options</th>\n",
       "      <th>...</th>\n",
       "      <th>menu_category_korean</th>\n",
       "      <th>menu_category_lebanese</th>\n",
       "      <th>menu_category_mexican</th>\n",
       "      <th>menu_category_pizza</th>\n",
       "      <th>menu_category_south indian</th>\n",
       "      <th>menu_category_thai</th>\n",
       "      <th>menu_category_turkish</th>\n",
       "      <th>menu_category_vegetarian</th>\n",
       "      <th>menu_category_vietnamese</th>\n",
       "      <th>list_position_by_total_restaurants</th>\n",
       "    </tr>\n",
       "  </thead>\n",
       "  <tbody>\n",
       "    <tr>\n",
       "      <th>4603</th>\n",
       "      <td>73</td>\n",
       "      <td>76</td>\n",
       "      <td>35</td>\n",
       "      <td>1</td>\n",
       "      <td>0</td>\n",
       "      <td>0</td>\n",
       "      <td>0</td>\n",
       "      <td>0</td>\n",
       "      <td>0</td>\n",
       "      <td>0.0</td>\n",
       "      <td>...</td>\n",
       "      <td>0.0</td>\n",
       "      <td>0.0</td>\n",
       "      <td>0.0</td>\n",
       "      <td>0.0</td>\n",
       "      <td>0.0</td>\n",
       "      <td>0.0</td>\n",
       "      <td>0.0</td>\n",
       "      <td>0.0</td>\n",
       "      <td>0.0</td>\n",
       "      <td>0.960526</td>\n",
       "    </tr>\n",
       "  </tbody>\n",
       "</table>\n",
       "<p>1 rows × 29 columns</p>\n",
       "</div>"
      ]
     },
     "execution_count": 123,
     "metadata": {},
     "output_type": "execute_result"
    }
   ],
   "execution_count": 123
  },
  {
   "metadata": {
    "ExecuteTime": {
     "end_time": "2024-05-16T14:21:54.399997Z",
     "start_time": "2024-05-16T14:21:54.352847Z"
    }
   },
   "cell_type": "code",
   "source": [
    " # normalization of features\n",
    "first = np.array(train_features[:1])\n",
    "print('Normalize', normalizer(first).numpy())"
   ],
   "id": "7b2985ff9431b877",
   "outputs": [
    {
     "name": "stdout",
     "output_type": "stream",
     "text": [
      "Normalize [[ 3.669  2.648  1.609  1.131 -0.131 -0.102 -0.234 -0.489 -0.638 -0.033\n",
      "  -0.633 -0.012 -0.083 -0.059 -0.038 -0.074 -0.481  1.651 -0.233 -0.026\n",
      "  -0.119 -0.219 -0.2   -0.028 -0.222 -0.196 -0.03  -0.061    nan]]\n"
     ]
    }
   ],
   "execution_count": 124
  },
  {
   "metadata": {
    "ExecuteTime": {
     "end_time": "2024-05-16T14:21:54.433231Z",
     "start_time": "2024-05-16T14:21:54.402994Z"
    }
   },
   "cell_type": "code",
   "source": [
    "# first deep learning regression model\n",
    "feature = 'list_position_by_total_restaurants'\n",
    "single_feature = np.array(train_features[feature])\n",
    "print(single_feature.shape, train_features.shape)\n",
    "\n",
    "# Reshape the input feature to be a 2D array\n",
    "single_feature = single_feature.reshape(-1, 1)\n",
    "print(single_feature.shape)  # Should output (20534, 1)\n",
    "\n",
    "# normalization\n",
    "single_feature_normalizer = tf.keras.layers.Normalization()\n",
    "\n",
    "# adapt to the data\n",
    "single_feature_normalizer.adapt(single_feature)"
   ],
   "id": "cb5ef1f3377c086e",
   "outputs": [
    {
     "name": "stdout",
     "output_type": "stream",
     "text": [
      "(20534,) (20534, 29)\n",
      "(20534, 1)\n"
     ]
    }
   ],
   "execution_count": 125
  },
  {
   "metadata": {
    "ExecuteTime": {
     "end_time": "2024-05-16T14:21:54.452004Z",
     "start_time": "2024-05-16T14:21:54.435930Z"
    }
   },
   "cell_type": "code",
   "source": [
    "# sequential model\n",
    "single_feature_model = tf.keras.models.Sequential([single_feature_normalizer, layers.Dense(units=1)])"
   ],
   "id": "31c3f3d5a3c9887",
   "outputs": [],
   "execution_count": 126
  },
  {
   "metadata": {
    "ExecuteTime": {
     "end_time": "2024-05-16T14:21:54.489265Z",
     "start_time": "2024-05-16T14:21:54.454003Z"
    }
   },
   "cell_type": "code",
   "source": [
    "# summary of the model\n",
    "single_feature_model.summary()"
   ],
   "id": "1736ab1863759399",
   "outputs": [
    {
     "data": {
      "text/plain": [
       "\u001B[1mModel: \"sequential_6\"\u001B[0m\n"
      ],
      "text/html": [
       "<pre style=\"white-space:pre;overflow-x:auto;line-height:normal;font-family:Menlo,'DejaVu Sans Mono',consolas,'Courier New',monospace\"><span style=\"font-weight: bold\">Model: \"sequential_6\"</span>\n",
       "</pre>\n"
      ]
     },
     "metadata": {},
     "output_type": "display_data"
    },
    {
     "data": {
      "text/plain": [
       "┏━━━━━━━━━━━━━━━━━━━━━━━━━━━━━━━━━┳━━━━━━━━━━━━━━━━━━━━━━━━┳━━━━━━━━━━━━━━━┓\n",
       "┃\u001B[1m \u001B[0m\u001B[1mLayer (type)                   \u001B[0m\u001B[1m \u001B[0m┃\u001B[1m \u001B[0m\u001B[1mOutput Shape          \u001B[0m\u001B[1m \u001B[0m┃\u001B[1m \u001B[0m\u001B[1m      Param #\u001B[0m\u001B[1m \u001B[0m┃\n",
       "┡━━━━━━━━━━━━━━━━━━━━━━━━━━━━━━━━━╇━━━━━━━━━━━━━━━━━━━━━━━━╇━━━━━━━━━━━━━━━┩\n",
       "│ normalization_5 (\u001B[38;5;33mNormalization\u001B[0m) │ ?                      │             \u001B[38;5;34m3\u001B[0m │\n",
       "├─────────────────────────────────┼────────────────────────┼───────────────┤\n",
       "│ dense_10 (\u001B[38;5;33mDense\u001B[0m)                │ ?                      │   \u001B[38;5;34m0\u001B[0m (unbuilt) │\n",
       "└─────────────────────────────────┴────────────────────────┴───────────────┘\n"
      ],
      "text/html": [
       "<pre style=\"white-space:pre;overflow-x:auto;line-height:normal;font-family:Menlo,'DejaVu Sans Mono',consolas,'Courier New',monospace\">┏━━━━━━━━━━━━━━━━━━━━━━━━━━━━━━━━━┳━━━━━━━━━━━━━━━━━━━━━━━━┳━━━━━━━━━━━━━━━┓\n",
       "┃<span style=\"font-weight: bold\"> Layer (type)                    </span>┃<span style=\"font-weight: bold\"> Output Shape           </span>┃<span style=\"font-weight: bold\">       Param # </span>┃\n",
       "┡━━━━━━━━━━━━━━━━━━━━━━━━━━━━━━━━━╇━━━━━━━━━━━━━━━━━━━━━━━━╇━━━━━━━━━━━━━━━┩\n",
       "│ normalization_5 (<span style=\"color: #0087ff; text-decoration-color: #0087ff\">Normalization</span>) │ ?                      │             <span style=\"color: #00af00; text-decoration-color: #00af00\">3</span> │\n",
       "├─────────────────────────────────┼────────────────────────┼───────────────┤\n",
       "│ dense_10 (<span style=\"color: #0087ff; text-decoration-color: #0087ff\">Dense</span>)                │ ?                      │   <span style=\"color: #00af00; text-decoration-color: #00af00\">0</span> (unbuilt) │\n",
       "└─────────────────────────────────┴────────────────────────┴───────────────┘\n",
       "</pre>\n"
      ]
     },
     "metadata": {},
     "output_type": "display_data"
    },
    {
     "data": {
      "text/plain": [
       "\u001B[1m Total params: \u001B[0m\u001B[38;5;34m3\u001B[0m (16.00 B)\n"
      ],
      "text/html": [
       "<pre style=\"white-space:pre;overflow-x:auto;line-height:normal;font-family:Menlo,'DejaVu Sans Mono',consolas,'Courier New',monospace\"><span style=\"font-weight: bold\"> Total params: </span><span style=\"color: #00af00; text-decoration-color: #00af00\">3</span> (16.00 B)\n",
       "</pre>\n"
      ]
     },
     "metadata": {},
     "output_type": "display_data"
    },
    {
     "data": {
      "text/plain": [
       "\u001B[1m Trainable params: \u001B[0m\u001B[38;5;34m0\u001B[0m (0.00 B)\n"
      ],
      "text/html": [
       "<pre style=\"white-space:pre;overflow-x:auto;line-height:normal;font-family:Menlo,'DejaVu Sans Mono',consolas,'Courier New',monospace\"><span style=\"font-weight: bold\"> Trainable params: </span><span style=\"color: #00af00; text-decoration-color: #00af00\">0</span> (0.00 B)\n",
       "</pre>\n"
      ]
     },
     "metadata": {},
     "output_type": "display_data"
    },
    {
     "data": {
      "text/plain": [
       "\u001B[1m Non-trainable params: \u001B[0m\u001B[38;5;34m3\u001B[0m (16.00 B)\n"
      ],
      "text/html": [
       "<pre style=\"white-space:pre;overflow-x:auto;line-height:normal;font-family:Menlo,'DejaVu Sans Mono',consolas,'Courier New',monospace\"><span style=\"font-weight: bold\"> Non-trainable params: </span><span style=\"color: #00af00; text-decoration-color: #00af00\">3</span> (16.00 B)\n",
       "</pre>\n"
      ]
     },
     "metadata": {},
     "output_type": "display_data"
    }
   ],
   "execution_count": 127
  },
  {
   "metadata": {
    "ExecuteTime": {
     "end_time": "2024-05-16T14:21:54.513328Z",
     "start_time": "2024-05-16T14:21:54.491256Z"
    }
   },
   "cell_type": "code",
   "source": [
    "# define loss and optimizer\n",
    "loss = keras.losses.MeanSquaredError()\n",
    "optim = tf.keras.optimizers.Adam(learning_rate=0.1)\n",
    "single_feature_model.compile(loss=loss, optimizer=optim)\n",
    "print(train_features[feature].shape)"
   ],
   "id": "1e61ad304dd36e64",
   "outputs": [
    {
     "name": "stdout",
     "output_type": "stream",
     "text": [
      "(20534,)\n"
     ]
    }
   ],
   "execution_count": 128
  },
  {
   "metadata": {
    "ExecuteTime": {
     "end_time": "2024-05-16T14:22:04.690331Z",
     "start_time": "2024-05-16T14:21:54.516378Z"
    }
   },
   "cell_type": "code",
   "source": [
    "# Fit the model\n",
    "history = single_feature_model.fit(train_features[feature], train_labels, epochs=10, verbose=1, validation_split=0.2)"
   ],
   "id": "c915cb3626c814a8",
   "outputs": [
    {
     "name": "stdout",
     "output_type": "stream",
     "text": [
      "Epoch 1/10\n",
      "\u001B[1m514/514\u001B[0m \u001B[32m━━━━━━━━━━━━━━━━━━━━\u001B[0m\u001B[37m\u001B[0m \u001B[1m3s\u001B[0m 2ms/step - loss: nan - val_loss: nan\n",
      "Epoch 2/10\n",
      "\u001B[1m514/514\u001B[0m \u001B[32m━━━━━━━━━━━━━━━━━━━━\u001B[0m\u001B[37m\u001B[0m \u001B[1m1s\u001B[0m 2ms/step - loss: nan - val_loss: nan\n",
      "Epoch 3/10\n",
      "\u001B[1m514/514\u001B[0m \u001B[32m━━━━━━━━━━━━━━━━━━━━\u001B[0m\u001B[37m\u001B[0m \u001B[1m1s\u001B[0m 2ms/step - loss: nan - val_loss: nan\n",
      "Epoch 4/10\n",
      "\u001B[1m514/514\u001B[0m \u001B[32m━━━━━━━━━━━━━━━━━━━━\u001B[0m\u001B[37m\u001B[0m \u001B[1m1s\u001B[0m 2ms/step - loss: nan - val_loss: nan\n",
      "Epoch 5/10\n",
      "\u001B[1m514/514\u001B[0m \u001B[32m━━━━━━━━━━━━━━━━━━━━\u001B[0m\u001B[37m\u001B[0m \u001B[1m1s\u001B[0m 1ms/step - loss: nan - val_loss: nan\n",
      "Epoch 6/10\n",
      "\u001B[1m514/514\u001B[0m \u001B[32m━━━━━━━━━━━━━━━━━━━━\u001B[0m\u001B[37m\u001B[0m \u001B[1m1s\u001B[0m 1ms/step - loss: nan - val_loss: nan\n",
      "Epoch 7/10\n",
      "\u001B[1m514/514\u001B[0m \u001B[32m━━━━━━━━━━━━━━━━━━━━\u001B[0m\u001B[37m\u001B[0m \u001B[1m1s\u001B[0m 1ms/step - loss: nan - val_loss: nan\n",
      "Epoch 8/10\n",
      "\u001B[1m514/514\u001B[0m \u001B[32m━━━━━━━━━━━━━━━━━━━━\u001B[0m\u001B[37m\u001B[0m \u001B[1m1s\u001B[0m 1ms/step - loss: nan - val_loss: nan\n",
      "Epoch 9/10\n",
      "\u001B[1m514/514\u001B[0m \u001B[32m━━━━━━━━━━━━━━━━━━━━\u001B[0m\u001B[37m\u001B[0m \u001B[1m1s\u001B[0m 1ms/step - loss: nan - val_loss: nan\n",
      "Epoch 10/10\n",
      "\u001B[1m514/514\u001B[0m \u001B[32m━━━━━━━━━━━━━━━━━━━━\u001B[0m\u001B[37m\u001B[0m \u001B[1m1s\u001B[0m 1ms/step - loss: nan - val_loss: nan\n"
     ]
    }
   ],
   "execution_count": 129
  },
  {
   "metadata": {
    "ExecuteTime": {
     "end_time": "2024-05-16T14:22:05.026017Z",
     "start_time": "2024-05-16T14:22:04.693327Z"
    }
   },
   "cell_type": "code",
   "source": "single_feature_model.evaluate(test_features[feature], test_labels, verbose=1)",
   "id": "1ff7b565ae986ee2",
   "outputs": [
    {
     "name": "stdout",
     "output_type": "stream",
     "text": [
      "\u001B[1m161/161\u001B[0m \u001B[32m━━━━━━━━━━━━━━━━━━━━\u001B[0m\u001B[37m\u001B[0m \u001B[1m0s\u001B[0m 1ms/step - loss: nan\n"
     ]
    },
    {
     "data": {
      "text/plain": [
       "nan"
      ]
     },
     "execution_count": 130,
     "metadata": {},
     "output_type": "execute_result"
    }
   ],
   "execution_count": 130
  },
  {
   "metadata": {
    "ExecuteTime": {
     "end_time": "2024-05-16T14:22:06.477698Z",
     "start_time": "2024-05-16T14:22:05.028015Z"
    }
   },
   "cell_type": "code",
   "source": [
    "# make prediction\n",
    "x = tf.linspace(0, 1, 100)\n",
    "y = single_feature_model.predict(x)\n",
    "\n",
    "# plot actual vs predicted\n",
    "plot(feature, x, y)"
   ],
   "id": "f6b734b052c655b7",
   "outputs": [
    {
     "name": "stdout",
     "output_type": "stream",
     "text": [
      "\u001B[1m4/4\u001B[0m \u001B[32m━━━━━━━━━━━━━━━━━━━━\u001B[0m\u001B[37m\u001B[0m \u001B[1m0s\u001B[0m 16ms/step\n"
     ]
    },
    {
     "data": {
      "text/plain": [
       "<Figure size 1000x800 with 1 Axes>"
      ],
      "image/png": "[encoded data removed]"
     },
     "metadata": {},
     "output_type": "display_data"
    }
   ],
   "execution_count": 131
  },
  {
   "metadata": {
    "ExecuteTime": {
     "end_time": "2024-05-16T14:22:06.498479Z",
     "start_time": "2024-05-16T14:22:06.485372Z"
    }
   },
   "cell_type": "code",
   "source": [
    "# deep neural network\n",
    "dnn_model = tf.keras.models.Sequential([single_feature_normalizer, layers.Dense(64, activation='relu'), layers.Dense(64, activation='relu'), layers.Dense(1)])\n"
   ],
   "id": "ff4034f6dc22587a",
   "outputs": [],
   "execution_count": 132
  },
  {
   "metadata": {
    "ExecuteTime": {
     "end_time": "2024-05-16T14:22:06.523650Z",
     "start_time": "2024-05-16T14:22:06.501528Z"
    }
   },
   "cell_type": "code",
   "source": [
    "# compile model\n",
    "dnn_model.compile(loss=loss, metrics=['mse', 'mae', 'mape', 'r2_score'], optimizer=tf.keras.optimizers.Adam(learning_rate=0.001))"
   ],
   "id": "7769cbf613bee79e",
   "outputs": [],
   "execution_count": 133
  },
  {
   "metadata": {
    "ExecuteTime": {
     "end_time": "2024-05-16T14:22:06.555816Z",
     "start_time": "2024-05-16T14:22:06.525713Z"
    }
   },
   "cell_type": "code",
   "source": "dnn_model.summary()",
   "id": "18d884370f480e6f",
   "outputs": [
    {
     "data": {
      "text/plain": [
       "\u001B[1mModel: \"sequential_7\"\u001B[0m\n"
      ],
      "text/html": [
       "<pre style=\"white-space:pre;overflow-x:auto;line-height:normal;font-family:Menlo,'DejaVu Sans Mono',consolas,'Courier New',monospace\"><span style=\"font-weight: bold\">Model: \"sequential_7\"</span>\n",
       "</pre>\n"
      ]
     },
     "metadata": {},
     "output_type": "display_data"
    },
    {
     "data": {
      "text/plain": [
       "┏━━━━━━━━━━━━━━━━━━━━━━━━━━━━━━━━━┳━━━━━━━━━━━━━━━━━━━━━━━━┳━━━━━━━━━━━━━━━┓\n",
       "┃\u001B[1m \u001B[0m\u001B[1mLayer (type)                   \u001B[0m\u001B[1m \u001B[0m┃\u001B[1m \u001B[0m\u001B[1mOutput Shape          \u001B[0m\u001B[1m \u001B[0m┃\u001B[1m \u001B[0m\u001B[1m      Param #\u001B[0m\u001B[1m \u001B[0m┃\n",
       "┡━━━━━━━━━━━━━━━━━━━━━━━━━━━━━━━━━╇━━━━━━━━━━━━━━━━━━━━━━━━╇━━━━━━━━━━━━━━━┩\n",
       "│ normalization_5 (\u001B[38;5;33mNormalization\u001B[0m) │ (\u001B[38;5;45mNone\u001B[0m, \u001B[38;5;34m1\u001B[0m)              │             \u001B[38;5;34m3\u001B[0m │\n",
       "├─────────────────────────────────┼────────────────────────┼───────────────┤\n",
       "│ dense_11 (\u001B[38;5;33mDense\u001B[0m)                │ ?                      │   \u001B[38;5;34m0\u001B[0m (unbuilt) │\n",
       "├─────────────────────────────────┼────────────────────────┼───────────────┤\n",
       "│ dense_12 (\u001B[38;5;33mDense\u001B[0m)                │ ?                      │   \u001B[38;5;34m0\u001B[0m (unbuilt) │\n",
       "├─────────────────────────────────┼────────────────────────┼───────────────┤\n",
       "│ dense_13 (\u001B[38;5;33mDense\u001B[0m)                │ ?                      │   \u001B[38;5;34m0\u001B[0m (unbuilt) │\n",
       "└─────────────────────────────────┴────────────────────────┴───────────────┘\n"
      ],
      "text/html": [
       "<pre style=\"white-space:pre;overflow-x:auto;line-height:normal;font-family:Menlo,'DejaVu Sans Mono',consolas,'Courier New',monospace\">┏━━━━━━━━━━━━━━━━━━━━━━━━━━━━━━━━━┳━━━━━━━━━━━━━━━━━━━━━━━━┳━━━━━━━━━━━━━━━┓\n",
       "┃<span style=\"font-weight: bold\"> Layer (type)                    </span>┃<span style=\"font-weight: bold\"> Output Shape           </span>┃<span style=\"font-weight: bold\">       Param # </span>┃\n",
       "┡━━━━━━━━━━━━━━━━━━━━━━━━━━━━━━━━━╇━━━━━━━━━━━━━━━━━━━━━━━━╇━━━━━━━━━━━━━━━┩\n",
       "│ normalization_5 (<span style=\"color: #0087ff; text-decoration-color: #0087ff\">Normalization</span>) │ (<span style=\"color: #00d7ff; text-decoration-color: #00d7ff\">None</span>, <span style=\"color: #00af00; text-decoration-color: #00af00\">1</span>)              │             <span style=\"color: #00af00; text-decoration-color: #00af00\">3</span> │\n",
       "├─────────────────────────────────┼────────────────────────┼───────────────┤\n",
       "│ dense_11 (<span style=\"color: #0087ff; text-decoration-color: #0087ff\">Dense</span>)                │ ?                      │   <span style=\"color: #00af00; text-decoration-color: #00af00\">0</span> (unbuilt) │\n",
       "├─────────────────────────────────┼────────────────────────┼───────────────┤\n",
       "│ dense_12 (<span style=\"color: #0087ff; text-decoration-color: #0087ff\">Dense</span>)                │ ?                      │   <span style=\"color: #00af00; text-decoration-color: #00af00\">0</span> (unbuilt) │\n",
       "├─────────────────────────────────┼────────────────────────┼───────────────┤\n",
       "│ dense_13 (<span style=\"color: #0087ff; text-decoration-color: #0087ff\">Dense</span>)                │ ?                      │   <span style=\"color: #00af00; text-decoration-color: #00af00\">0</span> (unbuilt) │\n",
       "└─────────────────────────────────┴────────────────────────┴───────────────┘\n",
       "</pre>\n"
      ]
     },
     "metadata": {},
     "output_type": "display_data"
    },
    {
     "data": {
      "text/plain": [
       "\u001B[1m Total params: \u001B[0m\u001B[38;5;34m3\u001B[0m (16.00 B)\n"
      ],
      "text/html": [
       "<pre style=\"white-space:pre;overflow-x:auto;line-height:normal;font-family:Menlo,'DejaVu Sans Mono',consolas,'Courier New',monospace\"><span style=\"font-weight: bold\"> Total params: </span><span style=\"color: #00af00; text-decoration-color: #00af00\">3</span> (16.00 B)\n",
       "</pre>\n"
      ]
     },
     "metadata": {},
     "output_type": "display_data"
    },
    {
     "data": {
      "text/plain": [
       "\u001B[1m Trainable params: \u001B[0m\u001B[38;5;34m0\u001B[0m (0.00 B)\n"
      ],
      "text/html": [
       "<pre style=\"white-space:pre;overflow-x:auto;line-height:normal;font-family:Menlo,'DejaVu Sans Mono',consolas,'Courier New',monospace\"><span style=\"font-weight: bold\"> Trainable params: </span><span style=\"color: #00af00; text-decoration-color: #00af00\">0</span> (0.00 B)\n",
       "</pre>\n"
      ]
     },
     "metadata": {},
     "output_type": "display_data"
    },
    {
     "data": {
      "text/plain": [
       "\u001B[1m Non-trainable params: \u001B[0m\u001B[38;5;34m3\u001B[0m (16.00 B)\n"
      ],
      "text/html": [
       "<pre style=\"white-space:pre;overflow-x:auto;line-height:normal;font-family:Menlo,'DejaVu Sans Mono',consolas,'Courier New',monospace\"><span style=\"font-weight: bold\"> Non-trainable params: </span><span style=\"color: #00af00; text-decoration-color: #00af00\">3</span> (16.00 B)\n",
       "</pre>\n"
      ]
     },
     "metadata": {},
     "output_type": "display_data"
    }
   ],
   "execution_count": 134
  },
  {
   "metadata": {
    "ExecuteTime": {
     "end_time": "2024-05-16T14:22:19.268231Z",
     "start_time": "2024-05-16T14:22:06.558813Z"
    }
   },
   "cell_type": "code",
   "source": [
    "# fit model\n",
    "dnn_model.fit(train_features[feature], train_labels, validation_split=0.2, verbose=1, epochs=10)"
   ],
   "id": "3376291c9c603e33",
   "outputs": [
    {
     "name": "stdout",
     "output_type": "stream",
     "text": [
      "Epoch 1/10\n",
      "\u001B[1m514/514\u001B[0m \u001B[32m━━━━━━━━━━━━━━━━━━━━\u001B[0m\u001B[37m\u001B[0m \u001B[1m6s\u001B[0m 4ms/step - loss: 4396.1968 - mae: 56.1152 - mape: 99.7301 - mse: 4396.1968 - r2_score: -2.5356 - val_loss: 3886.3669 - val_mae: 54.1088 - val_mape: 98.9135 - val_mse: 3886.3669 - val_r2_score: -3.0542\n",
      "Epoch 2/10\n",
      "\u001B[1m514/514\u001B[0m \u001B[32m━━━━━━━━━━━━━━━━━━━━\u001B[0m\u001B[37m\u001B[0m \u001B[1m1s\u001B[0m 2ms/step - loss: 4426.9795 - mae: 55.4967 - mape: 98.6522 - mse: 4426.9795 - r2_score: -2.3313 - val_loss: 3831.5891 - val_mae: 53.6002 - val_mape: 97.8248 - val_mse: 3831.5891 - val_r2_score: -2.9970\n",
      "Epoch 3/10\n",
      "\u001B[1m514/514\u001B[0m \u001B[32m━━━━━━━━━━━━━━━━━━━━\u001B[0m\u001B[37m\u001B[0m \u001B[1m1s\u001B[0m 2ms/step - loss: 4146.6167 - mae: 54.8489 - mape: 97.5763 - mse: 4146.6167 - r2_score: -2.6678 - val_loss: 3777.5957 - val_mae: 53.0942 - val_mape: 96.7415 - val_mse: 3777.5957 - val_r2_score: -2.9407\n",
      "Epoch 4/10\n",
      "\u001B[1m264/514\u001B[0m \u001B[32m━━━━━━━━━━\u001B[0m\u001B[37m━━━━━━━━━━\u001B[0m \u001B[1m0s\u001B[0m 2ms/step - loss: 3986.2244 - mae: 54.0956 - mape: 96.6324 - mse: 3986.2244 - r2_score: -2.7925"
     ]
    },
    {
     "name": "stderr",
     "output_type": "stream",
     "text": [
      "\n",
      "KeyboardInterrupt\n",
      "\n"
     ]
    }
   ],
   "execution_count": 135
  },
  {
   "metadata": {
    "ExecuteTime": {
     "end_time": "2024-05-16T14:22:19.270220Z",
     "start_time": "2024-05-16T14:22:19.270220Z"
    }
   },
   "cell_type": "code",
   "source": [
    "# evaluate model\n",
    "dnn_model.evaluate(test_features[feature], test_labels, verbose=1)"
   ],
   "id": "919a0e49adacc107",
   "outputs": [],
   "execution_count": null
  },
  {
   "metadata": {},
   "cell_type": "code",
   "source": [
    "x = tf.linspace(0, 1, 100)\n",
    "y = dnn_model.predict(x)\n",
    "\n",
    "plot(feature, x, y)"
   ],
   "id": "445777eb2d7cadfa",
   "outputs": [],
   "execution_count": null
  },
  {
   "metadata": {},
   "cell_type": "code",
   "source": [
    "# all independent variables\n",
    "linear_model = tf.keras.models.Sequential([normalizer, layers.Dense(units=1)]) "
   ],
   "id": "89b909c530ddd567",
   "outputs": [],
   "execution_count": null
  },
  {
   "metadata": {},
   "cell_type": "code",
   "source": "linear_model.compile(optimizer=tf.keras.optimizers.Adam(learning_rate=0.1), loss='mse', metrics=['mse', 'mae', 'mape', 'r2_score'])",
   "id": "570b9144161147f5",
   "outputs": [],
   "execution_count": null
  },
  {
   "metadata": {},
   "cell_type": "code",
   "source": "linear_model.fit(train_features, train_labels, epochs=10, verbose=1, validation_split=0.2)",
   "id": "9acbe32f5beae174",
   "outputs": [],
   "execution_count": null
  },
  {
   "metadata": {},
   "cell_type": "code",
   "source": "evaluation_results = linear_model.evaluate(test_features, test_labels, verbose=1)",
   "id": "5d949c3f2ac808a4",
   "outputs": [],
   "execution_count": null
  },
  {
   "metadata": {},
   "cell_type": "code",
   "source": "print(evaluation_results)",
   "id": "ce1d3d5443c335f0",
   "outputs": [],
   "execution_count": null
  },
  {
   "metadata": {},
   "cell_type": "code",
   "source": "print(linear_model.metrics_names)",
   "id": "c342a089a0decbae",
   "outputs": [],
   "execution_count": null
  },
  {
   "metadata": {},
   "cell_type": "code",
   "source": "rmse = np.sqrt(1006.0762)\n",
   "id": "dbe4d73a4f60dd9d",
   "outputs": [],
   "execution_count": null
  },
  {
   "metadata": {},
   "cell_type": "code",
   "source": "print(rmse)",
   "id": "3eff60b1a7ffff61",
   "outputs": [],
   "execution_count": null
  },
  {
   "metadata": {},
   "cell_type": "code",
   "source": "",
   "id": "8a711180eea19413",
   "outputs": [],
   "execution_count": null
  },
  {
   "metadata": {},
   "cell_type": "code",
   "source": "",
   "id": "7a2f0a5cdf1e7362",
   "outputs": [],
   "execution_count": null
  }
 ],
 "metadata": {
  "kernelspec": {
   "display_name": "Python 3 (ipykernel)",
   "language": "python",
   "name": "python3"
  },
  "language_info": {
   "codemirror_mode": {
    "name": "ipython",
    "version": 3
   },
   "file_extension": ".py",
   "mimetype": "text/x-python",
   "name": "python",
   "nbconvert_exporter": "python",
   "pygments_lexer": "ipython3",
   "version": "3.11.7"
  }
 },
 "nbformat": 4,
 "nbformat_minor": 5
}
