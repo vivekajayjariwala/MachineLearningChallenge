{
 "cells": [
  {
   "metadata": {
    "ExecuteTime": {
     "end_time": "2024-05-16T18:51:23.174594Z",
     "start_time": "2024-05-16T18:51:17.160339Z"
    }
   },
   "cell_type": "code",
   "source": [
    "import pandas as pd\n",
    "from sklearn.model_selection import train_test_split\n",
    "from sklearn.pipeline import Pipeline\n",
    "from sklearn.compose import ColumnTransformer\n",
    "from sklearn.preprocessing import OneHotEncoder\n",
    "from sklearn.linear_model import LinearRegression\n",
    "from sklearn.metrics import root_mean_squared_error\n",
    "\n",
    "# Load data\n",
    "df = pd.read_csv('data_train.csv')\n",
    "\n",
    "# Column names appear to be messed up, so manually correct them\n",
    "df.columns = [\n",
    "    'index', \n",
    "    'restaurant_id', \n",
    "    'list_position',\n",
    "    'total_available_restaurants', \n",
    "    'estimate_delivery_time',\n",
    "    'menu_category', \n",
    "    'star_rating', \n",
    "    'purchasers'\n",
    "]\n",
    "\n",
    "# I'm lazy, so I'm dropping the columns that I don't want to use for modeling ... but maybe you will want to?\n",
    "df.drop(columns=['index', 'restaurant_id', 'star_rating'], inplace=True)\n",
    "\n",
    "# If I wasn't lazy, I would probably do some feature engineering here ...\n",
    "\n",
    "\n",
    "# Split data into features and target\n",
    "X = df.drop('purchasers', axis=1)\n",
    "y = df['purchasers']\n",
    "\n",
    "# Split data into training and test sets\n",
    "X_train, X_test, y_train, y_test = train_test_split(X, y, test_size=0.2, random_state=42)\n",
    "\n",
    "# Since the 'menu_category' column is categorical and not numerical, we must process it before modeling\n",
    "categorical_features = ['menu_category']\n",
    "categorical_transformer = OneHotEncoder(handle_unknown='ignore')\n",
    "preprocessor = ColumnTransformer(\n",
    "    transformers=[\n",
    "        ('cat', categorical_transformer, categorical_features)],\n",
    "    remainder='passthrough')\n",
    "\n",
    "# Create pipeline with preprocessor and model\n",
    "model = Pipeline(steps=[\n",
    "    ('preprocessor', preprocessor),\n",
    "    ('regressor', LinearRegression())])\n",
    "\n",
    "# Train the model\n",
    "model.fit(X_train, y_train)\n",
    "\n",
    "# Make predictions\n",
    "y_pred = model.predict(X_test)\n",
    "\n",
    "# Evaluate the model\n",
    "rmse = root_mean_squared_error(y_test, y_pred)\n",
    "print(f'Root Mean Squared Error (RMSE): {rmse}')"
   ],
   "id": "d511e19e67741b44",
   "outputs": [
    {
     "name": "stdout",
     "output_type": "stream",
     "text": [
      "Root Mean Squared Error (RMSE): 34.11682777022838\n"
     ]
    }
   ],
   "execution_count": 1
  },
  {
   "metadata": {},
   "cell_type": "code",
   "outputs": [],
   "execution_count": null,
   "source": "",
   "id": "eb0e0e186ac27b44"
  }
 ],
 "metadata": {
  "kernelspec": {
   "display_name": "Python 3 (ipykernel)",
   "language": "python",
   "name": "python3"
  },
  "language_info": {
   "codemirror_mode": {
    "name": "ipython",
    "version": 3
   },
   "file_extension": ".py",
   "mimetype": "text/x-python",
   "name": "python",
   "nbconvert_exporter": "python",
   "pygments_lexer": "ipython3",
   "version": "3.11.7"
  }
 },
 "nbformat": 4,
 "nbformat_minor": 5
}
